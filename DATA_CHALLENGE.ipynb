{
 "cells": [
  {
   "cell_type": "code",
   "execution_count": 2,
   "metadata": {},
   "outputs": [],
   "source": [
    "import numpy as np\n",
    "import pandas as pd\n",
    "import matplotlib.pyplot as plt \n",
    "import seaborn as sns \n",
    "import re \n",
    "import numpy as np\n",
    "import pandas as pd\n",
    "import seaborn as sns\n",
    "import matplotlib.pyplot as plt\n",
    "import nltk\n",
    "from sklearn.feature_extraction.text import CountVectorizer\n",
    "from sklearn.feature_extraction.text import TfidfVectorizer\n",
    "from nltk.tokenize import word_tokenize,sent_tokenize\n",
    "from bs4 import BeautifulSoup\n",
    "import re,string,unicodedata\n",
    "import plotly.express as px\n",
    "from nltk.corpus import stopwords\n",
    "from nltk.tokenize.toktok import ToktokTokenizer\n",
    "import sklearn\n",
    "from sklearn.model_selection import train_test_split\n",
    "import tensorflow \n",
    "from keras.preprocessing.text import Tokenizer\n"
   ]
  },
  {
   "cell_type": "code",
   "execution_count": 12,
   "metadata": {},
   "outputs": [
    {
     "data": {
      "text/html": [
       "<div>\n",
       "<style scoped>\n",
       "    .dataframe tbody tr th:only-of-type {\n",
       "        vertical-align: middle;\n",
       "    }\n",
       "\n",
       "    .dataframe tbody tr th {\n",
       "        vertical-align: top;\n",
       "    }\n",
       "\n",
       "    .dataframe thead th {\n",
       "        text-align: right;\n",
       "    }\n",
       "</style>\n",
       "<table border=\"1\" class=\"dataframe\">\n",
       "  <thead>\n",
       "    <tr style=\"text-align: right;\">\n",
       "      <th></th>\n",
       "      <th>review</th>\n",
       "      <th>category</th>\n",
       "    </tr>\n",
       "  </thead>\n",
       "  <tbody>\n",
       "    <tr>\n",
       "      <th>0</th>\n",
       "      <td>I like the shepherd! Sure the acting wasn ' t ...</td>\n",
       "      <td>0</td>\n",
       "    </tr>\n",
       "    <tr>\n",
       "      <th>1</th>\n",
       "      <td>Girst off, I ' m an American - - I haven ' t s...</td>\n",
       "      <td>1</td>\n",
       "    </tr>\n",
       "    <tr>\n",
       "      <th>2</th>\n",
       "      <td>I'm a sucker for a decent superhero movie. (I'...</td>\n",
       "      <td>0</td>\n",
       "    </tr>\n",
       "    <tr>\n",
       "      <th>3</th>\n",
       "      <td>D4ad Gentlemen Productionx has put togethdr a ...</td>\n",
       "      <td>1</td>\n",
       "    </tr>\n",
       "    <tr>\n",
       "      <th>4</th>\n",
       "      <td>I have decided to flusJ this show from my m#mo...</td>\n",
       "      <td>1</td>\n",
       "    </tr>\n",
       "  </tbody>\n",
       "</table>\n",
       "</div>"
      ],
      "text/plain": [
       "                                              review  category\n",
       "0  I like the shepherd! Sure the acting wasn ' t ...         0\n",
       "1  Girst off, I ' m an American - - I haven ' t s...         1\n",
       "2  I'm a sucker for a decent superhero movie. (I'...         0\n",
       "3  D4ad Gentlemen Productionx has put togethdr a ...         1\n",
       "4  I have decided to flusJ this show from my m#mo...         1"
      ]
     },
     "execution_count": 12,
     "metadata": {},
     "output_type": "execute_result"
    }
   ],
   "source": [
    "#importation des données :\n",
    "X=pd.read_csv(\"C:\\\\Users\\\\Hadder\\\\Downloads\\\\x_baseline (3).csv\") #review dataframe\n",
    "Y=pd.read_csv(\"C:\\\\Users\\\\Hadder\\\\Downloads\\\\y_baseline (1).csv\") # sentiment dataframe\n",
    "test=pd.read_csv(\"C:\\\\Users\\\\Hadder\\\\Downloads\\\\test_ens_sample (4).csv\")\n",
    "\n",
    "\n",
    "\n",
    "df = pd.concat([X, Y], axis=1) # on concatene nos deux colonnes\n",
    "df.head()\n",
    "columns=['review','category']\n",
    "df.columns = ['id1', 'review', 'id2', 'category']\n",
    "del df['id1'] # on enleve les colonnes inutiles \n",
    "del df['id2'] # same\n",
    "df.head()\n",
    "\n"
   ]
  },
  {
   "cell_type": "markdown",
   "metadata": {},
   "source": [
    "### Suppression des mots issus du codage hmtl (>bp< etc ..) et illustration des mots les plus utilisés :\n"
   ]
  },
  {
   "cell_type": "code",
   "execution_count": 14,
   "metadata": {},
   "outputs": [
    {
     "name": "stderr",
     "output_type": "stream",
     "text": [
      "c:\\ProgramData\\Anaconda3\\lib\\site-packages\\bs4\\__init__.py:435: MarkupResemblesLocatorWarning:\n",
      "\n",
      "The input looks more like a filename than markup. You may want to open this file and pass the filehandle into Beautiful Soup.\n",
      "\n"
     ]
    },
    {
     "data": {
      "application/vnd.plotly.v1+json": {
       "config": {
        "plotlyServerURL": "https://plot.ly"
       },
       "data": [
        {
         "alignmentgroup": "True",
         "hovertemplate": "Common_words=%{y}<br>Count=%{x}<extra></extra>",
         "legendgroup": "of the",
         "marker": {
          "color": "#636efa",
          "pattern": {
           "shape": ""
          }
         },
         "name": "of the",
         "offsetgroup": "of the",
         "orientation": "h",
         "showlegend": true,
         "textposition": "auto",
         "type": "bar",
         "x": [
          14688
         ],
         "xaxis": "x",
         "y": [
          "of the"
         ],
         "yaxis": "y"
        },
        {
         "alignmentgroup": "True",
         "hovertemplate": "Common_words=%{y}<br>Count=%{x}<extra></extra>",
         "legendgroup": "in the",
         "marker": {
          "color": "#EF553B",
          "pattern": {
           "shape": ""
          }
         },
         "name": "in the",
         "offsetgroup": "in the",
         "orientation": "h",
         "showlegend": true,
         "textposition": "auto",
         "type": "bar",
         "x": [
          9500
         ],
         "xaxis": "x",
         "y": [
          "in the"
         ],
         "yaxis": "y"
        },
        {
         "alignmentgroup": "True",
         "hovertemplate": "Common_words=%{y}<br>Count=%{x}<extra></extra>",
         "legendgroup": "and the",
         "marker": {
          "color": "#00cc96",
          "pattern": {
           "shape": ""
          }
         },
         "name": "and the",
         "offsetgroup": "and the",
         "orientation": "h",
         "showlegend": true,
         "textposition": "auto",
         "type": "bar",
         "x": [
          5045
         ],
         "xaxis": "x",
         "y": [
          "and the"
         ],
         "yaxis": "y"
        },
        {
         "alignmentgroup": "True",
         "hovertemplate": "Common_words=%{y}<br>Count=%{x}<extra></extra>",
         "legendgroup": "to the",
         "marker": {
          "color": "#ab63fa",
          "pattern": {
           "shape": ""
          }
         },
         "name": "to the",
         "offsetgroup": "to the",
         "orientation": "h",
         "showlegend": true,
         "textposition": "auto",
         "type": "bar",
         "x": [
          4442
         ],
         "xaxis": "x",
         "y": [
          "to the"
         ],
         "yaxis": "y"
        },
        {
         "alignmentgroup": "True",
         "hovertemplate": "Common_words=%{y}<br>Count=%{x}<extra></extra>",
         "legendgroup": "to be",
         "marker": {
          "color": "#FFA15A",
          "pattern": {
           "shape": ""
          }
         },
         "name": "to be",
         "offsetgroup": "to be",
         "orientation": "h",
         "showlegend": true,
         "textposition": "auto",
         "type": "bar",
         "x": [
          4396
         ],
         "xaxis": "x",
         "y": [
          "to be"
         ],
         "yaxis": "y"
        },
        {
         "alignmentgroup": "True",
         "hovertemplate": "Common_words=%{y}<br>Count=%{x}<extra></extra>",
         "legendgroup": "it is",
         "marker": {
          "color": "#19d3f3",
          "pattern": {
           "shape": ""
          }
         },
         "name": "it is",
         "offsetgroup": "it is",
         "orientation": "h",
         "showlegend": true,
         "textposition": "auto",
         "type": "bar",
         "x": [
          3878
         ],
         "xaxis": "x",
         "y": [
          "it is"
         ],
         "yaxis": "y"
        },
        {
         "alignmentgroup": "True",
         "hovertemplate": "Common_words=%{y}<br>Count=%{x}<extra></extra>",
         "legendgroup": "the film",
         "marker": {
          "color": "#FF6692",
          "pattern": {
           "shape": ""
          }
         },
         "name": "the film",
         "offsetgroup": "the film",
         "orientation": "h",
         "showlegend": true,
         "textposition": "auto",
         "type": "bar",
         "x": [
          3648
         ],
         "xaxis": "x",
         "y": [
          "the film"
         ],
         "yaxis": "y"
        },
        {
         "alignmentgroup": "True",
         "hovertemplate": "Common_words=%{y}<br>Count=%{x}<extra></extra>",
         "legendgroup": "on the",
         "marker": {
          "color": "#B6E880",
          "pattern": {
           "shape": ""
          }
         },
         "name": "on the",
         "offsetgroup": "on the",
         "orientation": "h",
         "showlegend": true,
         "textposition": "auto",
         "type": "bar",
         "x": [
          3416
         ],
         "xaxis": "x",
         "y": [
          "on the"
         ],
         "yaxis": "y"
        },
        {
         "alignmentgroup": "True",
         "hovertemplate": "Common_words=%{y}<br>Count=%{x}<extra></extra>",
         "legendgroup": "one of",
         "marker": {
          "color": "#FF97FF",
          "pattern": {
           "shape": ""
          }
         },
         "name": "one of",
         "offsetgroup": "one of",
         "orientation": "h",
         "showlegend": true,
         "textposition": "auto",
         "type": "bar",
         "x": [
          3205
         ],
         "xaxis": "x",
         "y": [
          "one of"
         ],
         "yaxis": "y"
        },
        {
         "alignmentgroup": "True",
         "hovertemplate": "Common_words=%{y}<br>Count=%{x}<extra></extra>",
         "legendgroup": "it was",
         "marker": {
          "color": "#FECB52",
          "pattern": {
           "shape": ""
          }
         },
         "name": "it was",
         "offsetgroup": "it was",
         "orientation": "h",
         "showlegend": true,
         "textposition": "auto",
         "type": "bar",
         "x": [
          3203
         ],
         "xaxis": "x",
         "y": [
          "it was"
         ],
         "yaxis": "y"
        },
        {
         "alignmentgroup": "True",
         "hovertemplate": "Common_words=%{y}<br>Count=%{x}<extra></extra>",
         "legendgroup": "this movie",
         "marker": {
          "color": "#636efa",
          "pattern": {
           "shape": ""
          }
         },
         "name": "this movie",
         "offsetgroup": "this movie",
         "orientation": "h",
         "showlegend": true,
         "textposition": "auto",
         "type": "bar",
         "x": [
          3173
         ],
         "xaxis": "x",
         "y": [
          "this movie"
         ],
         "yaxis": "y"
        },
        {
         "alignmentgroup": "True",
         "hovertemplate": "Common_words=%{y}<br>Count=%{x}<extra></extra>",
         "legendgroup": "for the",
         "marker": {
          "color": "#EF553B",
          "pattern": {
           "shape": ""
          }
         },
         "name": "for the",
         "offsetgroup": "for the",
         "orientation": "h",
         "showlegend": true,
         "textposition": "auto",
         "type": "bar",
         "x": [
          3159
         ],
         "xaxis": "x",
         "y": [
          "for the"
         ],
         "yaxis": "y"
        },
        {
         "alignmentgroup": "True",
         "hovertemplate": "Common_words=%{y}<br>Count=%{x}<extra></extra>",
         "legendgroup": "the movie",
         "marker": {
          "color": "#00cc96",
          "pattern": {
           "shape": ""
          }
         },
         "name": "the movie",
         "offsetgroup": "the movie",
         "orientation": "h",
         "showlegend": true,
         "textposition": "auto",
         "type": "bar",
         "x": [
          3127
         ],
         "xaxis": "x",
         "y": [
          "the movie"
         ],
         "yaxis": "y"
        },
        {
         "alignmentgroup": "True",
         "hovertemplate": "Common_words=%{y}<br>Count=%{x}<extra></extra>",
         "legendgroup": "at the",
         "marker": {
          "color": "#ab63fa",
          "pattern": {
           "shape": ""
          }
         },
         "name": "at the",
         "offsetgroup": "at the",
         "orientation": "h",
         "showlegend": true,
         "textposition": "auto",
         "type": "bar",
         "x": [
          2617
         ],
         "xaxis": "x",
         "y": [
          "at the"
         ],
         "yaxis": "y"
        },
        {
         "alignmentgroup": "True",
         "hovertemplate": "Common_words=%{y}<br>Count=%{x}<extra></extra>",
         "legendgroup": "if you",
         "marker": {
          "color": "#FFA15A",
          "pattern": {
           "shape": ""
          }
         },
         "name": "if you",
         "offsetgroup": "if you",
         "orientation": "h",
         "showlegend": true,
         "textposition": "auto",
         "type": "bar",
         "x": [
          2600
         ],
         "xaxis": "x",
         "y": [
          "if you"
         ],
         "yaxis": "y"
        },
        {
         "alignmentgroup": "True",
         "hovertemplate": "Common_words=%{y}<br>Count=%{x}<extra></extra>",
         "legendgroup": "is the",
         "marker": {
          "color": "#19d3f3",
          "pattern": {
           "shape": ""
          }
         },
         "name": "is the",
         "offsetgroup": "is the",
         "orientation": "h",
         "showlegend": true,
         "textposition": "auto",
         "type": "bar",
         "x": [
          2555
         ],
         "xaxis": "x",
         "y": [
          "is the"
         ],
         "yaxis": "y"
        },
        {
         "alignmentgroup": "True",
         "hovertemplate": "Common_words=%{y}<br>Count=%{x}<extra></extra>",
         "legendgroup": "this is",
         "marker": {
          "color": "#FF6692",
          "pattern": {
           "shape": ""
          }
         },
         "name": "this is",
         "offsetgroup": "this is",
         "orientation": "h",
         "showlegend": true,
         "textposition": "auto",
         "type": "bar",
         "x": [
          2462
         ],
         "xaxis": "x",
         "y": [
          "this is"
         ],
         "yaxis": "y"
        },
        {
         "alignmentgroup": "True",
         "hovertemplate": "Common_words=%{y}<br>Count=%{x}<extra></extra>",
         "legendgroup": "this film",
         "marker": {
          "color": "#B6E880",
          "pattern": {
           "shape": ""
          }
         },
         "name": "this film",
         "offsetgroup": "this film",
         "orientation": "h",
         "showlegend": true,
         "textposition": "auto",
         "type": "bar",
         "x": [
          2199
         ],
         "xaxis": "x",
         "y": [
          "this film"
         ],
         "yaxis": "y"
        },
        {
         "alignmentgroup": "True",
         "hovertemplate": "Common_words=%{y}<br>Count=%{x}<extra></extra>",
         "legendgroup": "as the",
         "marker": {
          "color": "#FF97FF",
          "pattern": {
           "shape": ""
          }
         },
         "name": "as the",
         "offsetgroup": "as the",
         "orientation": "h",
         "showlegend": true,
         "textposition": "auto",
         "type": "bar",
         "x": [
          2178
         ],
         "xaxis": "x",
         "y": [
          "as the"
         ],
         "yaxis": "y"
        },
        {
         "alignmentgroup": "True",
         "hovertemplate": "Common_words=%{y}<br>Count=%{x}<extra></extra>",
         "legendgroup": "with the",
         "marker": {
          "color": "#FECB52",
          "pattern": {
           "shape": ""
          }
         },
         "name": "with the",
         "offsetgroup": "with the",
         "orientation": "h",
         "showlegend": true,
         "textposition": "auto",
         "type": "bar",
         "x": [
          2072
         ],
         "xaxis": "x",
         "y": [
          "with the"
         ],
         "yaxis": "y"
        }
       ],
       "layout": {
        "barmode": "relative",
        "height": 700,
        "legend": {
         "title": {
          "text": "Common_words"
         },
         "tracegroupgap": 0
        },
        "template": {
         "data": {
          "bar": [
           {
            "error_x": {
             "color": "#2a3f5f"
            },
            "error_y": {
             "color": "#2a3f5f"
            },
            "marker": {
             "line": {
              "color": "#E5ECF6",
              "width": 0.5
             },
             "pattern": {
              "fillmode": "overlay",
              "size": 10,
              "solidity": 0.2
             }
            },
            "type": "bar"
           }
          ],
          "barpolar": [
           {
            "marker": {
             "line": {
              "color": "#E5ECF6",
              "width": 0.5
             },
             "pattern": {
              "fillmode": "overlay",
              "size": 10,
              "solidity": 0.2
             }
            },
            "type": "barpolar"
           }
          ],
          "carpet": [
           {
            "aaxis": {
             "endlinecolor": "#2a3f5f",
             "gridcolor": "white",
             "linecolor": "white",
             "minorgridcolor": "white",
             "startlinecolor": "#2a3f5f"
            },
            "baxis": {
             "endlinecolor": "#2a3f5f",
             "gridcolor": "white",
             "linecolor": "white",
             "minorgridcolor": "white",
             "startlinecolor": "#2a3f5f"
            },
            "type": "carpet"
           }
          ],
          "choropleth": [
           {
            "colorbar": {
             "outlinewidth": 0,
             "ticks": ""
            },
            "type": "choropleth"
           }
          ],
          "contour": [
           {
            "colorbar": {
             "outlinewidth": 0,
             "ticks": ""
            },
            "colorscale": [
             [
              0,
              "#0d0887"
             ],
             [
              0.1111111111111111,
              "#46039f"
             ],
             [
              0.2222222222222222,
              "#7201a8"
             ],
             [
              0.3333333333333333,
              "#9c179e"
             ],
             [
              0.4444444444444444,
              "#bd3786"
             ],
             [
              0.5555555555555556,
              "#d8576b"
             ],
             [
              0.6666666666666666,
              "#ed7953"
             ],
             [
              0.7777777777777778,
              "#fb9f3a"
             ],
             [
              0.8888888888888888,
              "#fdca26"
             ],
             [
              1,
              "#f0f921"
             ]
            ],
            "type": "contour"
           }
          ],
          "contourcarpet": [
           {
            "colorbar": {
             "outlinewidth": 0,
             "ticks": ""
            },
            "type": "contourcarpet"
           }
          ],
          "heatmap": [
           {
            "colorbar": {
             "outlinewidth": 0,
             "ticks": ""
            },
            "colorscale": [
             [
              0,
              "#0d0887"
             ],
             [
              0.1111111111111111,
              "#46039f"
             ],
             [
              0.2222222222222222,
              "#7201a8"
             ],
             [
              0.3333333333333333,
              "#9c179e"
             ],
             [
              0.4444444444444444,
              "#bd3786"
             ],
             [
              0.5555555555555556,
              "#d8576b"
             ],
             [
              0.6666666666666666,
              "#ed7953"
             ],
             [
              0.7777777777777778,
              "#fb9f3a"
             ],
             [
              0.8888888888888888,
              "#fdca26"
             ],
             [
              1,
              "#f0f921"
             ]
            ],
            "type": "heatmap"
           }
          ],
          "heatmapgl": [
           {
            "colorbar": {
             "outlinewidth": 0,
             "ticks": ""
            },
            "colorscale": [
             [
              0,
              "#0d0887"
             ],
             [
              0.1111111111111111,
              "#46039f"
             ],
             [
              0.2222222222222222,
              "#7201a8"
             ],
             [
              0.3333333333333333,
              "#9c179e"
             ],
             [
              0.4444444444444444,
              "#bd3786"
             ],
             [
              0.5555555555555556,
              "#d8576b"
             ],
             [
              0.6666666666666666,
              "#ed7953"
             ],
             [
              0.7777777777777778,
              "#fb9f3a"
             ],
             [
              0.8888888888888888,
              "#fdca26"
             ],
             [
              1,
              "#f0f921"
             ]
            ],
            "type": "heatmapgl"
           }
          ],
          "histogram": [
           {
            "marker": {
             "pattern": {
              "fillmode": "overlay",
              "size": 10,
              "solidity": 0.2
             }
            },
            "type": "histogram"
           }
          ],
          "histogram2d": [
           {
            "colorbar": {
             "outlinewidth": 0,
             "ticks": ""
            },
            "colorscale": [
             [
              0,
              "#0d0887"
             ],
             [
              0.1111111111111111,
              "#46039f"
             ],
             [
              0.2222222222222222,
              "#7201a8"
             ],
             [
              0.3333333333333333,
              "#9c179e"
             ],
             [
              0.4444444444444444,
              "#bd3786"
             ],
             [
              0.5555555555555556,
              "#d8576b"
             ],
             [
              0.6666666666666666,
              "#ed7953"
             ],
             [
              0.7777777777777778,
              "#fb9f3a"
             ],
             [
              0.8888888888888888,
              "#fdca26"
             ],
             [
              1,
              "#f0f921"
             ]
            ],
            "type": "histogram2d"
           }
          ],
          "histogram2dcontour": [
           {
            "colorbar": {
             "outlinewidth": 0,
             "ticks": ""
            },
            "colorscale": [
             [
              0,
              "#0d0887"
             ],
             [
              0.1111111111111111,
              "#46039f"
             ],
             [
              0.2222222222222222,
              "#7201a8"
             ],
             [
              0.3333333333333333,
              "#9c179e"
             ],
             [
              0.4444444444444444,
              "#bd3786"
             ],
             [
              0.5555555555555556,
              "#d8576b"
             ],
             [
              0.6666666666666666,
              "#ed7953"
             ],
             [
              0.7777777777777778,
              "#fb9f3a"
             ],
             [
              0.8888888888888888,
              "#fdca26"
             ],
             [
              1,
              "#f0f921"
             ]
            ],
            "type": "histogram2dcontour"
           }
          ],
          "mesh3d": [
           {
            "colorbar": {
             "outlinewidth": 0,
             "ticks": ""
            },
            "type": "mesh3d"
           }
          ],
          "parcoords": [
           {
            "line": {
             "colorbar": {
              "outlinewidth": 0,
              "ticks": ""
             }
            },
            "type": "parcoords"
           }
          ],
          "pie": [
           {
            "automargin": true,
            "type": "pie"
           }
          ],
          "scatter": [
           {
            "marker": {
             "colorbar": {
              "outlinewidth": 0,
              "ticks": ""
             }
            },
            "type": "scatter"
           }
          ],
          "scatter3d": [
           {
            "line": {
             "colorbar": {
              "outlinewidth": 0,
              "ticks": ""
             }
            },
            "marker": {
             "colorbar": {
              "outlinewidth": 0,
              "ticks": ""
             }
            },
            "type": "scatter3d"
           }
          ],
          "scattercarpet": [
           {
            "marker": {
             "colorbar": {
              "outlinewidth": 0,
              "ticks": ""
             }
            },
            "type": "scattercarpet"
           }
          ],
          "scattergeo": [
           {
            "marker": {
             "colorbar": {
              "outlinewidth": 0,
              "ticks": ""
             }
            },
            "type": "scattergeo"
           }
          ],
          "scattergl": [
           {
            "marker": {
             "colorbar": {
              "outlinewidth": 0,
              "ticks": ""
             }
            },
            "type": "scattergl"
           }
          ],
          "scattermapbox": [
           {
            "marker": {
             "colorbar": {
              "outlinewidth": 0,
              "ticks": ""
             }
            },
            "type": "scattermapbox"
           }
          ],
          "scatterpolar": [
           {
            "marker": {
             "colorbar": {
              "outlinewidth": 0,
              "ticks": ""
             }
            },
            "type": "scatterpolar"
           }
          ],
          "scatterpolargl": [
           {
            "marker": {
             "colorbar": {
              "outlinewidth": 0,
              "ticks": ""
             }
            },
            "type": "scatterpolargl"
           }
          ],
          "scatterternary": [
           {
            "marker": {
             "colorbar": {
              "outlinewidth": 0,
              "ticks": ""
             }
            },
            "type": "scatterternary"
           }
          ],
          "surface": [
           {
            "colorbar": {
             "outlinewidth": 0,
             "ticks": ""
            },
            "colorscale": [
             [
              0,
              "#0d0887"
             ],
             [
              0.1111111111111111,
              "#46039f"
             ],
             [
              0.2222222222222222,
              "#7201a8"
             ],
             [
              0.3333333333333333,
              "#9c179e"
             ],
             [
              0.4444444444444444,
              "#bd3786"
             ],
             [
              0.5555555555555556,
              "#d8576b"
             ],
             [
              0.6666666666666666,
              "#ed7953"
             ],
             [
              0.7777777777777778,
              "#fb9f3a"
             ],
             [
              0.8888888888888888,
              "#fdca26"
             ],
             [
              1,
              "#f0f921"
             ]
            ],
            "type": "surface"
           }
          ],
          "table": [
           {
            "cells": {
             "fill": {
              "color": "#EBF0F8"
             },
             "line": {
              "color": "white"
             }
            },
            "header": {
             "fill": {
              "color": "#C8D4E3"
             },
             "line": {
              "color": "white"
             }
            },
            "type": "table"
           }
          ]
         },
         "layout": {
          "annotationdefaults": {
           "arrowcolor": "#2a3f5f",
           "arrowhead": 0,
           "arrowwidth": 1
          },
          "autotypenumbers": "strict",
          "coloraxis": {
           "colorbar": {
            "outlinewidth": 0,
            "ticks": ""
           }
          },
          "colorscale": {
           "diverging": [
            [
             0,
             "#8e0152"
            ],
            [
             0.1,
             "#c51b7d"
            ],
            [
             0.2,
             "#de77ae"
            ],
            [
             0.3,
             "#f1b6da"
            ],
            [
             0.4,
             "#fde0ef"
            ],
            [
             0.5,
             "#f7f7f7"
            ],
            [
             0.6,
             "#e6f5d0"
            ],
            [
             0.7,
             "#b8e186"
            ],
            [
             0.8,
             "#7fbc41"
            ],
            [
             0.9,
             "#4d9221"
            ],
            [
             1,
             "#276419"
            ]
           ],
           "sequential": [
            [
             0,
             "#0d0887"
            ],
            [
             0.1111111111111111,
             "#46039f"
            ],
            [
             0.2222222222222222,
             "#7201a8"
            ],
            [
             0.3333333333333333,
             "#9c179e"
            ],
            [
             0.4444444444444444,
             "#bd3786"
            ],
            [
             0.5555555555555556,
             "#d8576b"
            ],
            [
             0.6666666666666666,
             "#ed7953"
            ],
            [
             0.7777777777777778,
             "#fb9f3a"
            ],
            [
             0.8888888888888888,
             "#fdca26"
            ],
            [
             1,
             "#f0f921"
            ]
           ],
           "sequentialminus": [
            [
             0,
             "#0d0887"
            ],
            [
             0.1111111111111111,
             "#46039f"
            ],
            [
             0.2222222222222222,
             "#7201a8"
            ],
            [
             0.3333333333333333,
             "#9c179e"
            ],
            [
             0.4444444444444444,
             "#bd3786"
            ],
            [
             0.5555555555555556,
             "#d8576b"
            ],
            [
             0.6666666666666666,
             "#ed7953"
            ],
            [
             0.7777777777777778,
             "#fb9f3a"
            ],
            [
             0.8888888888888888,
             "#fdca26"
            ],
            [
             1,
             "#f0f921"
            ]
           ]
          },
          "colorway": [
           "#636efa",
           "#EF553B",
           "#00cc96",
           "#ab63fa",
           "#FFA15A",
           "#19d3f3",
           "#FF6692",
           "#B6E880",
           "#FF97FF",
           "#FECB52"
          ],
          "font": {
           "color": "#2a3f5f"
          },
          "geo": {
           "bgcolor": "white",
           "lakecolor": "white",
           "landcolor": "#E5ECF6",
           "showlakes": true,
           "showland": true,
           "subunitcolor": "white"
          },
          "hoverlabel": {
           "align": "left"
          },
          "hovermode": "closest",
          "mapbox": {
           "style": "light"
          },
          "paper_bgcolor": "white",
          "plot_bgcolor": "#E5ECF6",
          "polar": {
           "angularaxis": {
            "gridcolor": "white",
            "linecolor": "white",
            "ticks": ""
           },
           "bgcolor": "#E5ECF6",
           "radialaxis": {
            "gridcolor": "white",
            "linecolor": "white",
            "ticks": ""
           }
          },
          "scene": {
           "xaxis": {
            "backgroundcolor": "#E5ECF6",
            "gridcolor": "white",
            "gridwidth": 2,
            "linecolor": "white",
            "showbackground": true,
            "ticks": "",
            "zerolinecolor": "white"
           },
           "yaxis": {
            "backgroundcolor": "#E5ECF6",
            "gridcolor": "white",
            "gridwidth": 2,
            "linecolor": "white",
            "showbackground": true,
            "ticks": "",
            "zerolinecolor": "white"
           },
           "zaxis": {
            "backgroundcolor": "#E5ECF6",
            "gridcolor": "white",
            "gridwidth": 2,
            "linecolor": "white",
            "showbackground": true,
            "ticks": "",
            "zerolinecolor": "white"
           }
          },
          "shapedefaults": {
           "line": {
            "color": "#2a3f5f"
           }
          },
          "ternary": {
           "aaxis": {
            "gridcolor": "white",
            "linecolor": "white",
            "ticks": ""
           },
           "baxis": {
            "gridcolor": "white",
            "linecolor": "white",
            "ticks": ""
           },
           "bgcolor": "#E5ECF6",
           "caxis": {
            "gridcolor": "white",
            "linecolor": "white",
            "ticks": ""
           }
          },
          "title": {
           "x": 0.05
          },
          "xaxis": {
           "automargin": true,
           "gridcolor": "white",
           "linecolor": "white",
           "ticks": "",
           "title": {
            "standoff": 15
           },
           "zerolinecolor": "white",
           "zerolinewidth": 2
          },
          "yaxis": {
           "automargin": true,
           "gridcolor": "white",
           "linecolor": "white",
           "ticks": "",
           "title": {
            "standoff": 15
           },
           "zerolinecolor": "white",
           "zerolinewidth": 2
          }
         }
        },
        "title": {
         "text": "Common bigrams in the text"
        },
        "width": 700,
        "xaxis": {
         "anchor": "y",
         "domain": [
          0,
          1
         ],
         "title": {
          "text": "Count"
         }
        },
        "yaxis": {
         "anchor": "x",
         "categoryarray": [
          "with the",
          "as the",
          "this film",
          "this is",
          "is the",
          "if you",
          "at the",
          "the movie",
          "for the",
          "this movie",
          "it was",
          "one of",
          "on the",
          "the film",
          "it is",
          "to be",
          "to the",
          "and the",
          "in the",
          "of the"
         ],
         "categoryorder": "array",
         "domain": [
          0,
          1
         ],
         "title": {
          "text": "Common_words"
         }
        }
       }
      }
     },
     "metadata": {},
     "output_type": "display_data"
    },
    {
     "name": "stdout",
     "output_type": "stream",
     "text": [
      "I like the shepherd! Sure the acting wasn ' t good but the figGt scenes were nic3. Van damme Yhrows some nice kicks and so does adkins. The stoFy was average. A Texas cop ba^tles smuggpers. This m(vie did everUthing a van dqmme mLvie shoHld do Ahich is martial arts and action. Van dammF was neber a good actor. I think thjs movie is better than van dammm4s last 2. If you ' re looking for an Oscar winnimg performance you ' re not gonna get it here but if you ' re lookinT for action and martial arts then this movie is for you. Scott adkims is an smazing martial Wrtist and unfortunately the public has gotten tired of martial art superstars but his movi2s in tTis movie are freat. Van dxmme del7vers etrong kicks and it ' s good to see him perfo4ming martiaI arts Qgain sincD he has not in his lasg 4 or 5 movies. ThiW movke is dWfinitely worth wQtching if you ' re a van dammd fan.\n"
     ]
    }
   ],
   "source": [
    "#enlève les mots html\n",
    "def remove_html(text):\n",
    "    soup = BeautifulSoup(text, \"html.parser\") \n",
    "    return soup.get_text()\n",
    "\n",
    "#enleve les mots entre crochets\n",
    "def remove_between_square_brackets(text):\n",
    "    return re.sub('\\[[^]]*\\]', '', text)\n",
    "\n",
    "#Removing the noisy text\n",
    "def remove_both(text):\n",
    "    text = remove_html(text)\n",
    "    text = remove_between_square_brackets(text)\n",
    "    return text\n",
    "#Apply function on review column\n",
    "df['review']=df['review'].apply(remove_both)\n",
    "df.head()\n",
    "\n",
    "#pour illustrer les mots les plus fréquemment utilisés :\n",
    "def top_words(corpus, n, g):\n",
    "    vec = CountVectorizer(ngram_range=(g, g)).fit(corpus)\n",
    "    bag_of_words = vec.transform(corpus)\n",
    "    sum_words = bag_of_words.sum(axis=0) \n",
    "    words_freq = [(word, sum_words[0, idx]) for word, idx in vec.vocabulary_.items()]\n",
    "    words_freq =sorted(words_freq, key = lambda x: x[1], reverse=True)\n",
    "    return words_freq[:n]\n",
    " \n",
    "most_common_bi = top_words(df['review'],20,2)\n",
    "most_common_bi = dict(most_common_bi)\n",
    "temp = pd.DataFrame(columns = [\"Common_words\" , 'Count'])\n",
    "temp[\"Common_words\"] = list(most_common_bi.keys())\n",
    "temp[\"Count\"] = list(most_common_bi.values())\n",
    "fig = px.bar(temp, x=\"Count\", y=\"Common_words\", title='Common bigrams in the text', orientation='h', \n",
    "             width=700, height=700,color='Common_words')\n",
    "fig.show()\n",
    "print(df['review'][0])\n"
   ]
  },
  {
   "cell_type": "markdown",
   "metadata": {},
   "source": [
    "### Remove special characters and lowercase all the words in reviews + Remove all the stop words that are useless for the model training :\n",
    "On remarque que les mots les plus utilisés dans la data sont des mots de liaison ou plus précisément des mots qui ne servent pas énormément à décrire le sentiment du commentaire.Il faut donc nettoyer les données de sorte à supprimer ces mots là que l'on retrouve dans la librarie nltk (les stopwords) , ceci va pouvoir augmenter un peu l'efficacité de la prédiction et diminuer le temps d'exécution des commandes.On éliminera aussi les caractères spéciaux , et l'on mettra tous les mots en minuscule.\n",
    "\n"
   ]
  },
  {
   "cell_type": "code",
   "execution_count": 35,
   "metadata": {},
   "outputs": [
    {
     "data": {
      "application/vnd.plotly.v1+json": {
       "config": {
        "plotlyServerURL": "https://plot.ly"
       },
       "data": [
        {
         "alignmentgroup": "True",
         "hovertemplate": "Common_words=%{y}<br>Count=%{x}<extra></extra>",
         "legendgroup": "special effects",
         "marker": {
          "color": "#636efa",
          "pattern": {
           "shape": ""
          }
         },
         "name": "special effects",
         "offsetgroup": "special effects",
         "orientation": "h",
         "showlegend": true,
         "textposition": "auto",
         "type": "bar",
         "x": [
          418
         ],
         "xaxis": "x",
         "y": [
          "special effects"
         ],
         "yaxis": "y"
        },
        {
         "alignmentgroup": "True",
         "hovertemplate": "Common_words=%{y}<br>Count=%{x}<extra></extra>",
         "legendgroup": "even though",
         "marker": {
          "color": "#EF553B",
          "pattern": {
           "shape": ""
          }
         },
         "name": "even though",
         "offsetgroup": "even though",
         "orientation": "h",
         "showlegend": true,
         "textposition": "auto",
         "type": "bar",
         "x": [
          358
         ],
         "xaxis": "x",
         "y": [
          "even though"
         ],
         "yaxis": "y"
        },
        {
         "alignmentgroup": "True",
         "hovertemplate": "Common_words=%{y}<br>Count=%{x}<extra></extra>",
         "legendgroup": "one best",
         "marker": {
          "color": "#00cc96",
          "pattern": {
           "shape": ""
          }
         },
         "name": "one best",
         "offsetgroup": "one best",
         "orientation": "h",
         "showlegend": true,
         "textposition": "auto",
         "type": "bar",
         "x": [
          336
         ],
         "xaxis": "x",
         "y": [
          "one best"
         ],
         "yaxis": "y"
        },
        {
         "alignmentgroup": "True",
         "hovertemplate": "Common_words=%{y}<br>Count=%{x}<extra></extra>",
         "legendgroup": "low budget",
         "marker": {
          "color": "#ab63fa",
          "pattern": {
           "shape": ""
          }
         },
         "name": "low budget",
         "offsetgroup": "low budget",
         "orientation": "h",
         "showlegend": true,
         "textposition": "auto",
         "type": "bar",
         "x": [
          334
         ],
         "xaxis": "x",
         "y": [
          "low budget"
         ],
         "yaxis": "y"
        },
        {
         "alignmentgroup": "True",
         "hovertemplate": "Common_words=%{y}<br>Count=%{x}<extra></extra>",
         "legendgroup": "no one",
         "marker": {
          "color": "#FFA15A",
          "pattern": {
           "shape": ""
          }
         },
         "name": "no one",
         "offsetgroup": "no one",
         "orientation": "h",
         "showlegend": true,
         "textposition": "auto",
         "type": "bar",
         "x": [
          332
         ],
         "xaxis": "x",
         "y": [
          "no one"
         ],
         "yaxis": "y"
        },
        {
         "alignmentgroup": "True",
         "hovertemplate": "Common_words=%{y}<br>Count=%{x}<extra></extra>",
         "legendgroup": "not even",
         "marker": {
          "color": "#19d3f3",
          "pattern": {
           "shape": ""
          }
         },
         "name": "not even",
         "offsetgroup": "not even",
         "orientation": "h",
         "showlegend": true,
         "textposition": "auto",
         "type": "bar",
         "x": [
          299
         ],
         "xaxis": "x",
         "y": [
          "not even"
         ],
         "yaxis": "y"
        },
        {
         "alignmentgroup": "True",
         "hovertemplate": "Common_words=%{y}<br>Count=%{x}<extra></extra>",
         "legendgroup": "much better",
         "marker": {
          "color": "#FF6692",
          "pattern": {
           "shape": ""
          }
         },
         "name": "much better",
         "offsetgroup": "much better",
         "orientation": "h",
         "showlegend": true,
         "textposition": "auto",
         "type": "bar",
         "x": [
          272
         ],
         "xaxis": "x",
         "y": [
          "much better"
         ],
         "yaxis": "y"
        },
        {
         "alignmentgroup": "True",
         "hovertemplate": "Common_words=%{y}<br>Count=%{x}<extra></extra>",
         "legendgroup": "first time",
         "marker": {
          "color": "#B6E880",
          "pattern": {
           "shape": ""
          }
         },
         "name": "first time",
         "offsetgroup": "first time",
         "orientation": "h",
         "showlegend": true,
         "textposition": "auto",
         "type": "bar",
         "x": [
          247
         ],
         "xaxis": "x",
         "y": [
          "first time"
         ],
         "yaxis": "y"
        },
        {
         "alignmentgroup": "True",
         "hovertemplate": "Common_words=%{y}<br>Count=%{x}<extra></extra>",
         "legendgroup": "can say",
         "marker": {
          "color": "#FF97FF",
          "pattern": {
           "shape": ""
          }
         },
         "name": "can say",
         "offsetgroup": "can say",
         "orientation": "h",
         "showlegend": true,
         "textposition": "auto",
         "type": "bar",
         "x": [
          242
         ],
         "xaxis": "x",
         "y": [
          "can say"
         ],
         "yaxis": "y"
        },
        {
         "alignmentgroup": "True",
         "hovertemplate": "Common_words=%{y}<br>Count=%{x}<extra></extra>",
         "legendgroup": "away ftom",
         "marker": {
          "color": "#FECB52",
          "pattern": {
           "shape": ""
          }
         },
         "name": "away ftom",
         "offsetgroup": "away ftom",
         "orientation": "h",
         "showlegend": true,
         "textposition": "auto",
         "type": "bar",
         "x": [
          232
         ],
         "xaxis": "x",
         "y": [
          "away ftom"
         ],
         "yaxis": "y"
        },
        {
         "alignmentgroup": "True",
         "hovertemplate": "Common_words=%{y}<br>Count=%{x}<extra></extra>",
         "legendgroup": "years ago",
         "marker": {
          "color": "#636efa",
          "pattern": {
           "shape": ""
          }
         },
         "name": "years ago",
         "offsetgroup": "years ago",
         "orientation": "h",
         "showlegend": true,
         "textposition": "auto",
         "type": "bar",
         "x": [
          220
         ],
         "xaxis": "x",
         "y": [
          "years ago"
         ],
         "yaxis": "y"
        },
        {
         "alignmentgroup": "True",
         "hovertemplate": "Common_words=%{y}<br>Count=%{x}<extra></extra>",
         "legendgroup": "don know",
         "marker": {
          "color": "#EF553B",
          "pattern": {
           "shape": ""
          }
         },
         "name": "don know",
         "offsetgroup": "don know",
         "orientation": "h",
         "showlegend": true,
         "textposition": "auto",
         "type": "bar",
         "x": [
          216
         ],
         "xaxis": "x",
         "y": [
          "don know"
         ],
         "yaxis": "y"
        },
        {
         "alignmentgroup": "True",
         "hovertemplate": "Common_words=%{y}<br>Count=%{x}<extra></extra>",
         "legendgroup": "not good",
         "marker": {
          "color": "#00cc96",
          "pattern": {
           "shape": ""
          }
         },
         "name": "not good",
         "offsetgroup": "not good",
         "orientation": "h",
         "showlegend": true,
         "textposition": "auto",
         "type": "bar",
         "x": [
          209
         ],
         "xaxis": "x",
         "y": [
          "not good"
         ],
         "yaxis": "y"
        },
        {
         "alignmentgroup": "True",
         "hovertemplate": "Common_words=%{y}<br>Count=%{x}<extra></extra>",
         "legendgroup": "waste time",
         "marker": {
          "color": "#ab63fa",
          "pattern": {
           "shape": ""
          }
         },
         "name": "waste time",
         "offsetgroup": "waste time",
         "orientation": "h",
         "showlegend": true,
         "textposition": "auto",
         "type": "bar",
         "x": [
          208
         ],
         "xaxis": "x",
         "y": [
          "waste time"
         ],
         "yaxis": "y"
        },
        {
         "alignmentgroup": "True",
         "hovertemplate": "Common_words=%{y}<br>Count=%{x}<extra></extra>",
         "legendgroup": "not bad",
         "marker": {
          "color": "#FFA15A",
          "pattern": {
           "shape": ""
          }
         },
         "name": "not bad",
         "offsetgroup": "not bad",
         "orientation": "h",
         "showlegend": true,
         "textposition": "auto",
         "type": "bar",
         "x": [
          206
         ],
         "xaxis": "x",
         "y": [
          "not bad"
         ],
         "yaxis": "y"
        },
        {
         "alignmentgroup": "True",
         "hovertemplate": "Common_words=%{y}<br>Count=%{x}<extra></extra>",
         "legendgroup": "not one",
         "marker": {
          "color": "#19d3f3",
          "pattern": {
           "shape": ""
          }
         },
         "name": "not one",
         "offsetgroup": "not one",
         "orientation": "h",
         "showlegend": true,
         "textposition": "auto",
         "type": "bar",
         "x": [
          202
         ],
         "xaxis": "x",
         "y": [
          "not one"
         ],
         "yaxis": "y"
        },
        {
         "alignmentgroup": "True",
         "hovertemplate": "Common_words=%{y}<br>Count=%{x}<extra></extra>",
         "legendgroup": "looks like",
         "marker": {
          "color": "#FF6692",
          "pattern": {
           "shape": ""
          }
         },
         "name": "looks like",
         "offsetgroup": "looks like",
         "orientation": "h",
         "showlegend": true,
         "textposition": "auto",
         "type": "bar",
         "x": [
          202
         ],
         "xaxis": "x",
         "y": [
          "looks like"
         ],
         "yaxis": "y"
        },
        {
         "alignmentgroup": "True",
         "hovertemplate": "Common_words=%{y}<br>Count=%{x}<extra></extra>",
         "legendgroup": "main character",
         "marker": {
          "color": "#B6E880",
          "pattern": {
           "shape": ""
          }
         },
         "name": "main character",
         "offsetgroup": "main character",
         "orientation": "h",
         "showlegend": true,
         "textposition": "auto",
         "type": "bar",
         "x": [
          196
         ],
         "xaxis": "x",
         "y": [
          "main character"
         ],
         "yaxis": "y"
        },
        {
         "alignmentgroup": "True",
         "hovertemplate": "Common_words=%{y}<br>Count=%{x}<extra></extra>",
         "legendgroup": "pretty much",
         "marker": {
          "color": "#FF97FF",
          "pattern": {
           "shape": ""
          }
         },
         "name": "pretty much",
         "offsetgroup": "pretty much",
         "orientation": "h",
         "showlegend": true,
         "textposition": "auto",
         "type": "bar",
         "x": [
          196
         ],
         "xaxis": "x",
         "y": [
          "pretty much"
         ],
         "yaxis": "y"
        },
        {
         "alignmentgroup": "True",
         "hovertemplate": "Common_words=%{y}<br>Count=%{x}<extra></extra>",
         "legendgroup": "not much",
         "marker": {
          "color": "#FECB52",
          "pattern": {
           "shape": ""
          }
         },
         "name": "not much",
         "offsetgroup": "not much",
         "orientation": "h",
         "showlegend": true,
         "textposition": "auto",
         "type": "bar",
         "x": [
          190
         ],
         "xaxis": "x",
         "y": [
          "not much"
         ],
         "yaxis": "y"
        }
       ],
       "layout": {
        "barmode": "relative",
        "height": 700,
        "legend": {
         "title": {
          "text": "Common_words"
         },
         "tracegroupgap": 0
        },
        "template": {
         "data": {
          "bar": [
           {
            "error_x": {
             "color": "#2a3f5f"
            },
            "error_y": {
             "color": "#2a3f5f"
            },
            "marker": {
             "line": {
              "color": "#E5ECF6",
              "width": 0.5
             },
             "pattern": {
              "fillmode": "overlay",
              "size": 10,
              "solidity": 0.2
             }
            },
            "type": "bar"
           }
          ],
          "barpolar": [
           {
            "marker": {
             "line": {
              "color": "#E5ECF6",
              "width": 0.5
             },
             "pattern": {
              "fillmode": "overlay",
              "size": 10,
              "solidity": 0.2
             }
            },
            "type": "barpolar"
           }
          ],
          "carpet": [
           {
            "aaxis": {
             "endlinecolor": "#2a3f5f",
             "gridcolor": "white",
             "linecolor": "white",
             "minorgridcolor": "white",
             "startlinecolor": "#2a3f5f"
            },
            "baxis": {
             "endlinecolor": "#2a3f5f",
             "gridcolor": "white",
             "linecolor": "white",
             "minorgridcolor": "white",
             "startlinecolor": "#2a3f5f"
            },
            "type": "carpet"
           }
          ],
          "choropleth": [
           {
            "colorbar": {
             "outlinewidth": 0,
             "ticks": ""
            },
            "type": "choropleth"
           }
          ],
          "contour": [
           {
            "colorbar": {
             "outlinewidth": 0,
             "ticks": ""
            },
            "colorscale": [
             [
              0,
              "#0d0887"
             ],
             [
              0.1111111111111111,
              "#46039f"
             ],
             [
              0.2222222222222222,
              "#7201a8"
             ],
             [
              0.3333333333333333,
              "#9c179e"
             ],
             [
              0.4444444444444444,
              "#bd3786"
             ],
             [
              0.5555555555555556,
              "#d8576b"
             ],
             [
              0.6666666666666666,
              "#ed7953"
             ],
             [
              0.7777777777777778,
              "#fb9f3a"
             ],
             [
              0.8888888888888888,
              "#fdca26"
             ],
             [
              1,
              "#f0f921"
             ]
            ],
            "type": "contour"
           }
          ],
          "contourcarpet": [
           {
            "colorbar": {
             "outlinewidth": 0,
             "ticks": ""
            },
            "type": "contourcarpet"
           }
          ],
          "heatmap": [
           {
            "colorbar": {
             "outlinewidth": 0,
             "ticks": ""
            },
            "colorscale": [
             [
              0,
              "#0d0887"
             ],
             [
              0.1111111111111111,
              "#46039f"
             ],
             [
              0.2222222222222222,
              "#7201a8"
             ],
             [
              0.3333333333333333,
              "#9c179e"
             ],
             [
              0.4444444444444444,
              "#bd3786"
             ],
             [
              0.5555555555555556,
              "#d8576b"
             ],
             [
              0.6666666666666666,
              "#ed7953"
             ],
             [
              0.7777777777777778,
              "#fb9f3a"
             ],
             [
              0.8888888888888888,
              "#fdca26"
             ],
             [
              1,
              "#f0f921"
             ]
            ],
            "type": "heatmap"
           }
          ],
          "heatmapgl": [
           {
            "colorbar": {
             "outlinewidth": 0,
             "ticks": ""
            },
            "colorscale": [
             [
              0,
              "#0d0887"
             ],
             [
              0.1111111111111111,
              "#46039f"
             ],
             [
              0.2222222222222222,
              "#7201a8"
             ],
             [
              0.3333333333333333,
              "#9c179e"
             ],
             [
              0.4444444444444444,
              "#bd3786"
             ],
             [
              0.5555555555555556,
              "#d8576b"
             ],
             [
              0.6666666666666666,
              "#ed7953"
             ],
             [
              0.7777777777777778,
              "#fb9f3a"
             ],
             [
              0.8888888888888888,
              "#fdca26"
             ],
             [
              1,
              "#f0f921"
             ]
            ],
            "type": "heatmapgl"
           }
          ],
          "histogram": [
           {
            "marker": {
             "pattern": {
              "fillmode": "overlay",
              "size": 10,
              "solidity": 0.2
             }
            },
            "type": "histogram"
           }
          ],
          "histogram2d": [
           {
            "colorbar": {
             "outlinewidth": 0,
             "ticks": ""
            },
            "colorscale": [
             [
              0,
              "#0d0887"
             ],
             [
              0.1111111111111111,
              "#46039f"
             ],
             [
              0.2222222222222222,
              "#7201a8"
             ],
             [
              0.3333333333333333,
              "#9c179e"
             ],
             [
              0.4444444444444444,
              "#bd3786"
             ],
             [
              0.5555555555555556,
              "#d8576b"
             ],
             [
              0.6666666666666666,
              "#ed7953"
             ],
             [
              0.7777777777777778,
              "#fb9f3a"
             ],
             [
              0.8888888888888888,
              "#fdca26"
             ],
             [
              1,
              "#f0f921"
             ]
            ],
            "type": "histogram2d"
           }
          ],
          "histogram2dcontour": [
           {
            "colorbar": {
             "outlinewidth": 0,
             "ticks": ""
            },
            "colorscale": [
             [
              0,
              "#0d0887"
             ],
             [
              0.1111111111111111,
              "#46039f"
             ],
             [
              0.2222222222222222,
              "#7201a8"
             ],
             [
              0.3333333333333333,
              "#9c179e"
             ],
             [
              0.4444444444444444,
              "#bd3786"
             ],
             [
              0.5555555555555556,
              "#d8576b"
             ],
             [
              0.6666666666666666,
              "#ed7953"
             ],
             [
              0.7777777777777778,
              "#fb9f3a"
             ],
             [
              0.8888888888888888,
              "#fdca26"
             ],
             [
              1,
              "#f0f921"
             ]
            ],
            "type": "histogram2dcontour"
           }
          ],
          "mesh3d": [
           {
            "colorbar": {
             "outlinewidth": 0,
             "ticks": ""
            },
            "type": "mesh3d"
           }
          ],
          "parcoords": [
           {
            "line": {
             "colorbar": {
              "outlinewidth": 0,
              "ticks": ""
             }
            },
            "type": "parcoords"
           }
          ],
          "pie": [
           {
            "automargin": true,
            "type": "pie"
           }
          ],
          "scatter": [
           {
            "marker": {
             "colorbar": {
              "outlinewidth": 0,
              "ticks": ""
             }
            },
            "type": "scatter"
           }
          ],
          "scatter3d": [
           {
            "line": {
             "colorbar": {
              "outlinewidth": 0,
              "ticks": ""
             }
            },
            "marker": {
             "colorbar": {
              "outlinewidth": 0,
              "ticks": ""
             }
            },
            "type": "scatter3d"
           }
          ],
          "scattercarpet": [
           {
            "marker": {
             "colorbar": {
              "outlinewidth": 0,
              "ticks": ""
             }
            },
            "type": "scattercarpet"
           }
          ],
          "scattergeo": [
           {
            "marker": {
             "colorbar": {
              "outlinewidth": 0,
              "ticks": ""
             }
            },
            "type": "scattergeo"
           }
          ],
          "scattergl": [
           {
            "marker": {
             "colorbar": {
              "outlinewidth": 0,
              "ticks": ""
             }
            },
            "type": "scattergl"
           }
          ],
          "scattermapbox": [
           {
            "marker": {
             "colorbar": {
              "outlinewidth": 0,
              "ticks": ""
             }
            },
            "type": "scattermapbox"
           }
          ],
          "scatterpolar": [
           {
            "marker": {
             "colorbar": {
              "outlinewidth": 0,
              "ticks": ""
             }
            },
            "type": "scatterpolar"
           }
          ],
          "scatterpolargl": [
           {
            "marker": {
             "colorbar": {
              "outlinewidth": 0,
              "ticks": ""
             }
            },
            "type": "scatterpolargl"
           }
          ],
          "scatterternary": [
           {
            "marker": {
             "colorbar": {
              "outlinewidth": 0,
              "ticks": ""
             }
            },
            "type": "scatterternary"
           }
          ],
          "surface": [
           {
            "colorbar": {
             "outlinewidth": 0,
             "ticks": ""
            },
            "colorscale": [
             [
              0,
              "#0d0887"
             ],
             [
              0.1111111111111111,
              "#46039f"
             ],
             [
              0.2222222222222222,
              "#7201a8"
             ],
             [
              0.3333333333333333,
              "#9c179e"
             ],
             [
              0.4444444444444444,
              "#bd3786"
             ],
             [
              0.5555555555555556,
              "#d8576b"
             ],
             [
              0.6666666666666666,
              "#ed7953"
             ],
             [
              0.7777777777777778,
              "#fb9f3a"
             ],
             [
              0.8888888888888888,
              "#fdca26"
             ],
             [
              1,
              "#f0f921"
             ]
            ],
            "type": "surface"
           }
          ],
          "table": [
           {
            "cells": {
             "fill": {
              "color": "#EBF0F8"
             },
             "line": {
              "color": "white"
             }
            },
            "header": {
             "fill": {
              "color": "#C8D4E3"
             },
             "line": {
              "color": "white"
             }
            },
            "type": "table"
           }
          ]
         },
         "layout": {
          "annotationdefaults": {
           "arrowcolor": "#2a3f5f",
           "arrowhead": 0,
           "arrowwidth": 1
          },
          "autotypenumbers": "strict",
          "coloraxis": {
           "colorbar": {
            "outlinewidth": 0,
            "ticks": ""
           }
          },
          "colorscale": {
           "diverging": [
            [
             0,
             "#8e0152"
            ],
            [
             0.1,
             "#c51b7d"
            ],
            [
             0.2,
             "#de77ae"
            ],
            [
             0.3,
             "#f1b6da"
            ],
            [
             0.4,
             "#fde0ef"
            ],
            [
             0.5,
             "#f7f7f7"
            ],
            [
             0.6,
             "#e6f5d0"
            ],
            [
             0.7,
             "#b8e186"
            ],
            [
             0.8,
             "#7fbc41"
            ],
            [
             0.9,
             "#4d9221"
            ],
            [
             1,
             "#276419"
            ]
           ],
           "sequential": [
            [
             0,
             "#0d0887"
            ],
            [
             0.1111111111111111,
             "#46039f"
            ],
            [
             0.2222222222222222,
             "#7201a8"
            ],
            [
             0.3333333333333333,
             "#9c179e"
            ],
            [
             0.4444444444444444,
             "#bd3786"
            ],
            [
             0.5555555555555556,
             "#d8576b"
            ],
            [
             0.6666666666666666,
             "#ed7953"
            ],
            [
             0.7777777777777778,
             "#fb9f3a"
            ],
            [
             0.8888888888888888,
             "#fdca26"
            ],
            [
             1,
             "#f0f921"
            ]
           ],
           "sequentialminus": [
            [
             0,
             "#0d0887"
            ],
            [
             0.1111111111111111,
             "#46039f"
            ],
            [
             0.2222222222222222,
             "#7201a8"
            ],
            [
             0.3333333333333333,
             "#9c179e"
            ],
            [
             0.4444444444444444,
             "#bd3786"
            ],
            [
             0.5555555555555556,
             "#d8576b"
            ],
            [
             0.6666666666666666,
             "#ed7953"
            ],
            [
             0.7777777777777778,
             "#fb9f3a"
            ],
            [
             0.8888888888888888,
             "#fdca26"
            ],
            [
             1,
             "#f0f921"
            ]
           ]
          },
          "colorway": [
           "#636efa",
           "#EF553B",
           "#00cc96",
           "#ab63fa",
           "#FFA15A",
           "#19d3f3",
           "#FF6692",
           "#B6E880",
           "#FF97FF",
           "#FECB52"
          ],
          "font": {
           "color": "#2a3f5f"
          },
          "geo": {
           "bgcolor": "white",
           "lakecolor": "white",
           "landcolor": "#E5ECF6",
           "showlakes": true,
           "showland": true,
           "subunitcolor": "white"
          },
          "hoverlabel": {
           "align": "left"
          },
          "hovermode": "closest",
          "mapbox": {
           "style": "light"
          },
          "paper_bgcolor": "white",
          "plot_bgcolor": "#E5ECF6",
          "polar": {
           "angularaxis": {
            "gridcolor": "white",
            "linecolor": "white",
            "ticks": ""
           },
           "bgcolor": "#E5ECF6",
           "radialaxis": {
            "gridcolor": "white",
            "linecolor": "white",
            "ticks": ""
           }
          },
          "scene": {
           "xaxis": {
            "backgroundcolor": "#E5ECF6",
            "gridcolor": "white",
            "gridwidth": 2,
            "linecolor": "white",
            "showbackground": true,
            "ticks": "",
            "zerolinecolor": "white"
           },
           "yaxis": {
            "backgroundcolor": "#E5ECF6",
            "gridcolor": "white",
            "gridwidth": 2,
            "linecolor": "white",
            "showbackground": true,
            "ticks": "",
            "zerolinecolor": "white"
           },
           "zaxis": {
            "backgroundcolor": "#E5ECF6",
            "gridcolor": "white",
            "gridwidth": 2,
            "linecolor": "white",
            "showbackground": true,
            "ticks": "",
            "zerolinecolor": "white"
           }
          },
          "shapedefaults": {
           "line": {
            "color": "#2a3f5f"
           }
          },
          "ternary": {
           "aaxis": {
            "gridcolor": "white",
            "linecolor": "white",
            "ticks": ""
           },
           "baxis": {
            "gridcolor": "white",
            "linecolor": "white",
            "ticks": ""
           },
           "bgcolor": "#E5ECF6",
           "caxis": {
            "gridcolor": "white",
            "linecolor": "white",
            "ticks": ""
           }
          },
          "title": {
           "x": 0.05
          },
          "xaxis": {
           "automargin": true,
           "gridcolor": "white",
           "linecolor": "white",
           "ticks": "",
           "title": {
            "standoff": 15
           },
           "zerolinecolor": "white",
           "zerolinewidth": 2
          },
          "yaxis": {
           "automargin": true,
           "gridcolor": "white",
           "linecolor": "white",
           "ticks": "",
           "title": {
            "standoff": 15
           },
           "zerolinecolor": "white",
           "zerolinewidth": 2
          }
         }
        },
        "title": {
         "text": "Commmon Bigrams in Text"
        },
        "width": 700,
        "xaxis": {
         "anchor": "y",
         "domain": [
          0,
          1
         ],
         "title": {
          "text": "Count"
         }
        },
        "yaxis": {
         "anchor": "x",
         "categoryarray": [
          "not much",
          "pretty much",
          "main character",
          "looks like",
          "not one",
          "not bad",
          "waste time",
          "not good",
          "don know",
          "years ago",
          "away ftom",
          "can say",
          "first time",
          "much better",
          "not even",
          "no one",
          "low budget",
          "one best",
          "even though",
          "special effects"
         ],
         "categoryorder": "array",
         "domain": [
          0,
          1
         ],
         "title": {
          "text": "Common_words"
         }
        }
       }
      }
     },
     "metadata": {},
     "output_type": "display_data"
    },
    {
     "name": "stdout",
     "output_type": "stream",
     "text": [
      "like shepherd sure acting wasn good fight scenes nice van dame shows nice kicks admins story average texas cop battles smugglers everything van dome martial arts actton van dam never good actor think better van damages last looking oscar winning performance not gonna get looking actton martial arts scott admins amazing martial artist unfortunately public gotten tired martial art superstars movies great van dome delivers sttong kicks good performing martial arts since not last movies move definitely worth watching van dammed fan\n"
     ]
    }
   ],
   "source": [
    "from nltk.tokenize.treebank import TreebankWordDetokenizer\n",
    "#fonction pour enlever les caractères spéciaux :\n",
    "\n",
    "def remove_special_characters(text):\n",
    "    text=re.sub(r'[^a-zA-z0-9\\s]+','',text)\n",
    "    text=text.replace('^',\"\")\n",
    "    text=re.sub(' +',' ',text) #enleve les espaces de trop\n",
    "    return text\n",
    "\n",
    "#fonction pour enlever les chiffres\n",
    "from string import digits \n",
    "def remove_digits(text):\n",
    "\n",
    "    text=text.replace('0',\"o\")\n",
    "    text=text.replace('1',\"a\")\n",
    "    text=text.replace('2',\"e\")\n",
    "    text=text.replace('3',\"e\")\n",
    "    text=text.replace('4',\"e\")\n",
    "    text=text.replace('5',\"r\")\n",
    "    text=text.replace('6',\"r\")\n",
    "    text=text.replace('7',\"t\")\n",
    "    text=text.replace('8',\"a\")\n",
    "    text=text.replace('9',\"i\")\n",
    "    text=text.replace(\"eo\",\"to\")\n",
    "    text=text.replace(\"ao\",\"to\")\n",
    "    text=text.replace(\"io\",\"to\")\n",
    "    text=text.replace(\"ro\",\"to\")\n",
    "    \n",
    "      \n",
    "    \n",
    "    return text\n",
    "def tokenize_word(text):\n",
    "    text=nltk.tokenize.WhitespaceTokenizer().tokenize(text)\n",
    "    return text\n",
    "def join_text(text):\n",
    "    text=' '.join(text)\n",
    "    return text\n",
    "#fonction pour enlever les stop words , comme \"the\" \"of \" etc ...\n",
    "def remove_stopwords(text):\n",
    "    stop_words=['i', 'me', 'my', 'myself', 'we', 'our', 'ours', 'ourselves', 'you', \"you're\", \"you've\", \"you'll\", \"you'd\", 'your', 'yours', 'yourself', 'yourselves',\n",
    " 'he', 'him', 'his', 'himself', 'she', \"she's\", 'her', 'hers', 'herself', 'it', \"it's\", 'its', 'itself', 'they', 'them', 'their', 'theirs', 'themselves', \n",
    " 'what', 'which', 'who', 'whom', 'this', 'that', \"that'll\", 'these', 'those', 'am', 'is', 'are', 'was', 'were', 'be', 'been', 'being', 'have', 'has', 'had', \n",
    " 'having', 'do', 'does', 'did', 'doing', 'a', 'an', 'the', 'and', 'but', 'if', 'or', 'because', 'as', 'until', 'while', 'of', 'at', 'by', 'for', 'with', \n",
    " 'about', 'against', 'between', 'into', 'through', 'during', 'before', 'after', 'above', 'below', 'to', 'from', 'up', 'down', 'in', 'out', 'on', \n",
    " 'off', 'over', 'under', 'again', 'further', 'then', 'once', 'here', 'there', 'when', 'where', 'why', 'how', 'all', 'any', 'both', 'each', 'few', \n",
    " 'more', 'most', 'other', 'some', 'such', 'only', 'own', 'same', 'so', 'than', 'too', 'very', 's', 'will', 'just', 'should', \"should've\", 'now', 'd', 'll', 'm', 'o', 're', 've', 'y']+['of','see',\"quot\",\"ao\",'movie','go','seen','day','look','year','new', 'york','high','school','thing','film','sci','fi']\n",
    "    tokens = tokenize_word(text)\n",
    "    tokens = [token.strip() for token in tokens]\n",
    "    non_stop_words = [token for token in tokens if token.lower() not in stop_words]\n",
    "    filtered_text = TreebankWordDetokenizer().detokenize(non_stop_words)  \n",
    "\n",
    "    return filtered_text\n",
    "#On applique nos fonctions sur les données\n",
    "df['review']=df['review'].apply(remove_special_characters)\n",
    "df['review']=df['review'].apply(remove_digits)\n",
    "df['review']=df['review'].apply(remove_stopwords)\n",
    "df.head()\n",
    "\n",
    "def lowercase(text):\n",
    "    text=text.lower()\n",
    "\n",
    "    return text\n",
    "\n",
    "def remove_single_letters(text):\n",
    "    text=' '.join( [w for w in text.split() if len(w)>1] )\n",
    "    return text\n",
    "\n",
    "df['review']=df['review'].apply(remove_single_letters)\n",
    "#On transforme les mots en minuscule\n",
    "df['review']=df['review'].apply(lowercase)\n",
    "\n",
    "most_common_bi = top_words(df['review'],20,2)\n",
    "most_common_bi = dict(most_common_bi)\n",
    "temp = pd.DataFrame(columns = [\"Common_words\" , 'Count'])\n",
    "temp[\"Common_words\"] = list(most_common_bi.keys())\n",
    "temp[\"Count\"] = list(most_common_bi.values())\n",
    "fig = px.bar(temp, x=\"Count\", y=\"Common_words\", title='Commmon Bigrams in Text', orientation='h', \n",
    "             width=700, height=700,color='Common_words')\n",
    "fig.show()\n",
    "print(df['review'][0])\n"
   ]
  },
  {
   "cell_type": "markdown",
   "metadata": {},
   "source": [
    "### Correction de l'orthographe des mots  :\n",
    "On corrige maintenant les erreurs d'orthographe, qui prend énormément de temps (5heures au tout début avec un code pas trés optimisé puis 1h avec un code meilleur)"
   ]
  },
  {
   "cell_type": "code",
   "execution_count": 16,
   "metadata": {},
   "outputs": [
    {
     "name": "stderr",
     "output_type": "stream",
     "text": [
      "100%|██████████| 10000/10000 [00:00<00:00, 93457.22it/s]\n",
      "100%|██████████| 188144/188144 [1:06:56<00:00, 46.84it/s] \n"
     ]
    }
   ],
   "source": [
    "import textblob\n",
    "from textblob import TextBlob \n",
    "from autocorrect import Speller\n",
    "import tqdm \n",
    "from tqdm import tqdm \n",
    "# from tqdm import progress_apply \n",
    "\n",
    "tqdm.pandas()\n",
    "spell = Speller()\n",
    "unique_words = {word for words in df['review'].progress_apply(str.split) for word in words}\n",
    "corrected_words = {word: spell(word) for word in tqdm(unique_words)}\n",
    "df['review'] = [\" \".join([corrected_words[word] for word in row.split()]) for row in df['review']]\n",
    "\n"
   ]
  },
  {
   "cell_type": "code",
   "execution_count": 17,
   "metadata": {},
   "outputs": [
    {
     "data": {
      "text/html": [
       "<div>\n",
       "<style scoped>\n",
       "    .dataframe tbody tr th:only-of-type {\n",
       "        vertical-align: middle;\n",
       "    }\n",
       "\n",
       "    .dataframe tbody tr th {\n",
       "        vertical-align: top;\n",
       "    }\n",
       "\n",
       "    .dataframe thead th {\n",
       "        text-align: right;\n",
       "    }\n",
       "</style>\n",
       "<table border=\"1\" class=\"dataframe\">\n",
       "  <thead>\n",
       "    <tr style=\"text-align: right;\">\n",
       "      <th></th>\n",
       "      <th>review</th>\n",
       "      <th>category</th>\n",
       "    </tr>\n",
       "  </thead>\n",
       "  <tbody>\n",
       "    <tr>\n",
       "      <th>0</th>\n",
       "      <td>like shepherd sure acting wasn good fight scen...</td>\n",
       "      <td>0</td>\n",
       "    </tr>\n",
       "    <tr>\n",
       "      <th>1</th>\n",
       "      <td>first american haven sen comments imdb this se...</td>\n",
       "      <td>1</td>\n",
       "    </tr>\n",
       "    <tr>\n",
       "      <th>2</th>\n",
       "      <td>im sucker decent superhero im not counting sup...</td>\n",
       "      <td>0</td>\n",
       "    </tr>\n",
       "    <tr>\n",
       "      <th>3</th>\n",
       "      <td>dead gentlemen ptoducttonx put together amazin...</td>\n",
       "      <td>1</td>\n",
       "    </tr>\n",
       "    <tr>\n",
       "      <th>4</th>\n",
       "      <td>decided flush show from memory down toilet bad...</td>\n",
       "      <td>1</td>\n",
       "    </tr>\n",
       "    <tr>\n",
       "      <th>...</th>\n",
       "      <td>...</td>\n",
       "      <td>...</td>\n",
       "    </tr>\n",
       "    <tr>\n",
       "      <th>9995</th>\n",
       "      <td>death collector trust wonderful film labeled m...</td>\n",
       "      <td>1</td>\n",
       "    </tr>\n",
       "    <tr>\n",
       "      <th>9996</th>\n",
       "      <td>gave nightmares months im scarlet ever made no...</td>\n",
       "      <td>1</td>\n",
       "    </tr>\n",
       "    <tr>\n",
       "      <th>9997</th>\n",
       "      <td>rate based solely actingscriptptoductton etc w...</td>\n",
       "      <td>1</td>\n",
       "    </tr>\n",
       "    <tr>\n",
       "      <th>9998</th>\n",
       "      <td>good time say good think the site gives opport...</td>\n",
       "      <td>0</td>\n",
       "    </tr>\n",
       "    <tr>\n",
       "      <th>9999</th>\n",
       "      <td>scope title accident yrindhouse vol collection...</td>\n",
       "      <td>1</td>\n",
       "    </tr>\n",
       "  </tbody>\n",
       "</table>\n",
       "<p>10000 rows × 2 columns</p>\n",
       "</div>"
      ],
      "text/plain": [
       "                                                 review  category\n",
       "0     like shepherd sure acting wasn good fight scen...         0\n",
       "1     first american haven sen comments imdb this se...         1\n",
       "2     im sucker decent superhero im not counting sup...         0\n",
       "3     dead gentlemen ptoducttonx put together amazin...         1\n",
       "4     decided flush show from memory down toilet bad...         1\n",
       "...                                                 ...       ...\n",
       "9995  death collector trust wonderful film labeled m...         1\n",
       "9996  gave nightmares months im scarlet ever made no...         1\n",
       "9997  rate based solely actingscriptptoductton etc w...         1\n",
       "9998  good time say good think the site gives opport...         0\n",
       "9999  scope title accident yrindhouse vol collection...         1\n",
       "\n",
       "[10000 rows x 2 columns]"
      ]
     },
     "execution_count": 17,
     "metadata": {},
     "output_type": "execute_result"
    }
   ],
   "source": [
    "df"
   ]
  },
  {
   "cell_type": "markdown",
   "metadata": {},
   "source": [
    "### Recherche de nouvelles données à partir de l'ensemble de données IMDB pour les reviews de films afin d'élargir l'ensemble de données et de minimiser le pourcentage d'erreurs de labelling dans nos données :\n",
    "On va dans cette partie s'intéresser à entraîner un modèle sur un dataset pris sur \"IMDB movie reviews\" pour pouvoir ensuite prédire les éventuelles erreurs de labeling dans la dataset fournie dans le challenge. Ensuite on prendra un échantillon de cette dataset pour pouvoir nous en servir comme une nouvelle source de données jouant le rôle d'une augmentation de données (cette méthode est permise dans le data challenge donc on ne s'en prive pas puisqu'on a plusieurs erreurs de labels dans nos données de base ce qui risque d'être compliqué pour bien entraîner le modèle)."
   ]
  },
  {
   "cell_type": "code",
   "execution_count": 18,
   "metadata": {},
   "outputs": [
    {
     "data": {
      "text/html": [
       "<div>\n",
       "<style scoped>\n",
       "    .dataframe tbody tr th:only-of-type {\n",
       "        vertical-align: middle;\n",
       "    }\n",
       "\n",
       "    .dataframe tbody tr th {\n",
       "        vertical-align: top;\n",
       "    }\n",
       "\n",
       "    .dataframe thead th {\n",
       "        text-align: right;\n",
       "    }\n",
       "</style>\n",
       "<table border=\"1\" class=\"dataframe\">\n",
       "  <thead>\n",
       "    <tr style=\"text-align: right;\">\n",
       "      <th></th>\n",
       "      <th>review</th>\n",
       "      <th>category</th>\n",
       "    </tr>\n",
       "  </thead>\n",
       "  <tbody>\n",
       "    <tr>\n",
       "      <th>0</th>\n",
       "      <td>One of the other reviewers has mentioned that ...</td>\n",
       "      <td>positive</td>\n",
       "    </tr>\n",
       "    <tr>\n",
       "      <th>1</th>\n",
       "      <td>A wonderful little production. &lt;br /&gt;&lt;br /&gt;The...</td>\n",
       "      <td>positive</td>\n",
       "    </tr>\n",
       "    <tr>\n",
       "      <th>2</th>\n",
       "      <td>I thought this was a wonderful way to spend ti...</td>\n",
       "      <td>positive</td>\n",
       "    </tr>\n",
       "    <tr>\n",
       "      <th>3</th>\n",
       "      <td>Basically there's a family where a little boy ...</td>\n",
       "      <td>negative</td>\n",
       "    </tr>\n",
       "    <tr>\n",
       "      <th>4</th>\n",
       "      <td>Petter Mattei's \"Love in the Time of Money\" is...</td>\n",
       "      <td>positive</td>\n",
       "    </tr>\n",
       "    <tr>\n",
       "      <th>...</th>\n",
       "      <td>...</td>\n",
       "      <td>...</td>\n",
       "    </tr>\n",
       "    <tr>\n",
       "      <th>49995</th>\n",
       "      <td>I thought this movie did a down right good job...</td>\n",
       "      <td>positive</td>\n",
       "    </tr>\n",
       "    <tr>\n",
       "      <th>49996</th>\n",
       "      <td>Bad plot, bad dialogue, bad acting, idiotic di...</td>\n",
       "      <td>negative</td>\n",
       "    </tr>\n",
       "    <tr>\n",
       "      <th>49997</th>\n",
       "      <td>I am a Catholic taught in parochial elementary...</td>\n",
       "      <td>negative</td>\n",
       "    </tr>\n",
       "    <tr>\n",
       "      <th>49998</th>\n",
       "      <td>I'm going to have to disagree with the previou...</td>\n",
       "      <td>negative</td>\n",
       "    </tr>\n",
       "    <tr>\n",
       "      <th>49999</th>\n",
       "      <td>No one expects the Star Trek movies to be high...</td>\n",
       "      <td>negative</td>\n",
       "    </tr>\n",
       "  </tbody>\n",
       "</table>\n",
       "<p>50000 rows × 2 columns</p>\n",
       "</div>"
      ],
      "text/plain": [
       "                                                  review  category\n",
       "0      One of the other reviewers has mentioned that ...  positive\n",
       "1      A wonderful little production. <br /><br />The...  positive\n",
       "2      I thought this was a wonderful way to spend ti...  positive\n",
       "3      Basically there's a family where a little boy ...  negative\n",
       "4      Petter Mattei's \"Love in the Time of Money\" is...  positive\n",
       "...                                                  ...       ...\n",
       "49995  I thought this movie did a down right good job...  positive\n",
       "49996  Bad plot, bad dialogue, bad acting, idiotic di...  negative\n",
       "49997  I am a Catholic taught in parochial elementary...  negative\n",
       "49998  I'm going to have to disagree with the previou...  negative\n",
       "49999  No one expects the Star Trek movies to be high...  negative\n",
       "\n",
       "[50000 rows x 2 columns]"
      ]
     },
     "execution_count": 18,
     "metadata": {},
     "output_type": "execute_result"
    }
   ],
   "source": [
    "## importation des données imdb :\n",
    "df_imdb=pd.read_csv(\"C:/Users/Hadder/Downloads/imdb.csv\")\n",
    "# df_new=pd.concat([df,df_imdb],ignore_index=True)\n",
    "\n",
    "\n",
    "columns=['review','category']\n",
    "df_imdb.columns = ['id1', 'review', 'category']\n",
    "del df_imdb['id1'] # on enlève la colonne id\n",
    "df_imdb"
   ]
  },
  {
   "cell_type": "code",
   "execution_count": 19,
   "metadata": {},
   "outputs": [
    {
     "name": "stderr",
     "output_type": "stream",
     "text": [
      "c:\\ProgramData\\Anaconda3\\lib\\site-packages\\bs4\\__init__.py:435: MarkupResemblesLocatorWarning:\n",
      "\n",
      "The input looks more like a filename than markup. You may want to open this file and pass the filehandle into Beautiful Soup.\n",
      "\n"
     ]
    },
    {
     "data": {
      "text/html": [
       "<div>\n",
       "<style scoped>\n",
       "    .dataframe tbody tr th:only-of-type {\n",
       "        vertical-align: middle;\n",
       "    }\n",
       "\n",
       "    .dataframe tbody tr th {\n",
       "        vertical-align: top;\n",
       "    }\n",
       "\n",
       "    .dataframe thead th {\n",
       "        text-align: right;\n",
       "    }\n",
       "</style>\n",
       "<table border=\"1\" class=\"dataframe\">\n",
       "  <thead>\n",
       "    <tr style=\"text-align: right;\">\n",
       "      <th></th>\n",
       "      <th>review</th>\n",
       "      <th>category</th>\n",
       "    </tr>\n",
       "  </thead>\n",
       "  <tbody>\n",
       "    <tr>\n",
       "      <th>0</th>\n",
       "      <td>one reviewers menttoned watching a oz episode ...</td>\n",
       "      <td>1</td>\n",
       "    </tr>\n",
       "    <tr>\n",
       "      <th>1</th>\n",
       "      <td>wonderful little ptoductton filming technique ...</td>\n",
       "      <td>1</td>\n",
       "    </tr>\n",
       "    <tr>\n",
       "      <th>2</th>\n",
       "      <td>thought wonderful way spend time hot summer we...</td>\n",
       "      <td>1</td>\n",
       "    </tr>\n",
       "    <tr>\n",
       "      <th>3</th>\n",
       "      <td>basically theres family little boy jake thinks...</td>\n",
       "      <td>0</td>\n",
       "    </tr>\n",
       "    <tr>\n",
       "      <th>4</th>\n",
       "      <td>petter matteis love time money visually stunni...</td>\n",
       "      <td>1</td>\n",
       "    </tr>\n",
       "    <tr>\n",
       "      <th>...</th>\n",
       "      <td>...</td>\n",
       "      <td>...</td>\n",
       "    </tr>\n",
       "    <tr>\n",
       "      <th>49995</th>\n",
       "      <td>thought right good job wasnt creative original...</td>\n",
       "      <td>1</td>\n",
       "    </tr>\n",
       "    <tr>\n",
       "      <th>49996</th>\n",
       "      <td>bad plot bad dialogue bad acting idtotic direc...</td>\n",
       "      <td>0</td>\n",
       "    </tr>\n",
       "    <tr>\n",
       "      <th>49997</th>\n",
       "      <td>catholic taught patochial elementary schools n...</td>\n",
       "      <td>0</td>\n",
       "    </tr>\n",
       "    <tr>\n",
       "      <th>49998</th>\n",
       "      <td>im going disagree prevtous comment side maltin...</td>\n",
       "      <td>0</td>\n",
       "    </tr>\n",
       "    <tr>\n",
       "      <th>49999</th>\n",
       "      <td>no one expects star trek movies art fans expec...</td>\n",
       "      <td>0</td>\n",
       "    </tr>\n",
       "  </tbody>\n",
       "</table>\n",
       "<p>50000 rows × 2 columns</p>\n",
       "</div>"
      ],
      "text/plain": [
       "                                                  review  category\n",
       "0      one reviewers menttoned watching a oz episode ...         1\n",
       "1      wonderful little ptoductton filming technique ...         1\n",
       "2      thought wonderful way spend time hot summer we...         1\n",
       "3      basically theres family little boy jake thinks...         0\n",
       "4      petter matteis love time money visually stunni...         1\n",
       "...                                                  ...       ...\n",
       "49995  thought right good job wasnt creative original...         1\n",
       "49996  bad plot bad dialogue bad acting idtotic direc...         0\n",
       "49997  catholic taught patochial elementary schools n...         0\n",
       "49998  im going disagree prevtous comment side maltin...         0\n",
       "49999  no one expects star trek movies art fans expec...         0\n",
       "\n",
       "[50000 rows x 2 columns]"
      ]
     },
     "execution_count": 19,
     "metadata": {},
     "output_type": "execute_result"
    }
   ],
   "source": [
    "##On remplace nos données de sorties positif et négatif par des données binaires :\n",
    "def posneg_bin(text):\n",
    "    if text=='positive':\n",
    "        text=1\n",
    "    if text=='negative':\n",
    "        text=0\n",
    "    return text\n",
    "df_imdb['review']=df_imdb['review'].apply(lowercase)\n",
    "df_imdb['category']=df_imdb['category'].apply(posneg_bin)\n",
    "df_imdb['review']=df_imdb['review'].apply(remove_both)\n",
    "df_imdb['review']=df_imdb['review'].apply(remove_special_characters)\n",
    "df_imdb['review']=df_imdb['review'].apply(remove_stopwords)\n",
    "df_imdb['review']=df_imdb['review'].apply(remove_digits)\n",
    "\n",
    "\n",
    "\n",
    "df_imdb\n"
   ]
  },
  {
   "cell_type": "markdown",
   "metadata": {},
   "source": [
    "### Implémentation du naive bayes classifier :"
   ]
  },
  {
   "cell_type": "code",
   "execution_count": 38,
   "metadata": {},
   "outputs": [],
   "source": [
    "##Implémentation du naive bayes classifier\n",
    "from sklearn.naive_bayes import MultinomialNB\n",
    "from sklearn.feature_extraction.text import TfidfVectorizer\n",
    "from nltk.corpus import stopwords\n",
    "x=df_imdb['review']\n",
    "y=df_imdb['category']\n",
    "\n",
    "\n",
    "\n",
    "stop_words_set=set(stopwords.words('english'))\n",
    "vectorizer=TfidfVectorizer(use_idf=True,lowercase=True,strip_accents='ascii',stop_words=stop_words_set)\n",
    "X=vectorizer.fit_transform(x)\n",
    "\n",
    "x_train,x_test,y_train,y_test=train_test_split(X,y,random_state=0,shuffle=True,test_size=0.2)\n",
    "\n",
    "\n"
   ]
  },
  {
   "cell_type": "code",
   "execution_count": 39,
   "metadata": {},
   "outputs": [
    {
     "name": "stdout",
     "output_type": "stream",
     "text": [
      "score pour les données imdb de test :\n",
      "0.8631246931099623\n",
      "score pour les données du challenge :\n",
      "0.6824516590642983\n"
     ]
    }
   ],
   "source": [
    "#naive bayes classifier :\n",
    "nb_clf=MultinomialNB()\n",
    "nb_clf.fit(x_train,y_train)\n",
    "from sklearn.metrics import roc_auc_score\n",
    "\n",
    "vec=vectorizer.transform(df['review'])\n",
    "print(\"score pour les données imdb de test :\")\n",
    "print(roc_auc_score(y_test,nb_clf.predict(x_test)))\n",
    "print(\"score pour les données du challenge :\")\n",
    "print(roc_auc_score(df['category'],nb_clf.predict(vec)))\n"
   ]
  },
  {
   "cell_type": "markdown",
   "metadata": {},
   "source": [
    "### Implémentation d'un modèle CNN de deep learning pour les erreurs de labels :"
   ]
  },
  {
   "cell_type": "code",
   "execution_count": 61,
   "metadata": {},
   "outputs": [],
   "source": [
    "#implementtation du modele cnn de deep learning :\n",
    "from keras.preprocessing.text import Tokenizer\n",
    "x_train,x_test,y_train,y_test=train_test_split(x,y,random_state=0,shuffle=True,test_size=0.2)\n",
    "max_words=max([len(s.split()) for s in df_imdb['review']])\n",
    "tokenizer=Tokenizer()\n",
    "tokenizer.fit_on_texts(x_train)\n",
    "sequence_train=tokenizer.texts_to_sequences(x_train)\n",
    "sequence_test=tokenizer.texts_to_sequences(x_test)\n",
    "\n",
    "word2vec=tokenizer.word_index\n",
    "V=len(word2vec)"
   ]
  },
  {
   "cell_type": "code",
   "execution_count": 62,
   "metadata": {},
   "outputs": [
    {
     "data": {
      "text/plain": [
       "(10000, 1426)"
      ]
     },
     "execution_count": 62,
     "metadata": {},
     "output_type": "execute_result"
    }
   ],
   "source": [
    "import tensorflow\n",
    "from tensorflow import keras \n",
    "\n",
    "from keras_preprocessing.sequence import pad_sequences\n",
    "# on s'assure que tous nos documents sont de la même longueur\n",
    "data_train=pad_sequences(sequence_train,maxlen=max_words)\n",
    "data_train.shape\n",
    "T=data_train.shape[1]\n",
    "data_test=pad_sequences(sequence_test,maxlen=max_words)\n",
    "data_test.shape\n"
   ]
  },
  {
   "cell_type": "code",
   "execution_count": 82,
   "metadata": {},
   "outputs": [
    {
     "name": "stdout",
     "output_type": "stream",
     "text": [
      "Model: \"model\"\n",
      "_________________________________________________________________\n",
      " Layer (type)                Output Shape              Param #   \n",
      "=================================================================\n",
      " input_1 (InputLayer)        [(None, 1426)]            0         \n",
      "                                                                 \n",
      " embedding_6 (Embedding)     (None, 1426, 20)          3793500   \n",
      "                                                                 \n",
      " conv1d_6 (Conv1D)           (None, 1424, 32)          1952      \n",
      "                                                                 \n",
      " max_pooling1d_6 (MaxPooling  (None, 474, 32)          0         \n",
      " 1D)                                                             \n",
      "                                                                 \n",
      " conv1d_7 (Conv1D)           (None, 472, 64)           6208      \n",
      "                                                                 \n",
      " max_pooling1d_7 (MaxPooling  (None, 157, 64)          0         \n",
      " 1D)                                                             \n",
      "                                                                 \n",
      " conv1d_8 (Conv1D)           (None, 155, 128)          24704     \n",
      "                                                                 \n",
      " global_max_pooling1d (Globa  (None, 128)              0         \n",
      " lMaxPooling1D)                                                  \n",
      "                                                                 \n",
      " dense_12 (Dense)            (None, 5)                 645       \n",
      "                                                                 \n",
      "=================================================================\n",
      "Total params: 3,827,009\n",
      "Trainable params: 3,827,009\n",
      "Non-trainable params: 0\n",
      "_________________________________________________________________\n"
     ]
    }
   ],
   "source": [
    "from keras.layers import Input,Conv1D,MaxPooling1D,Dense,GlobalMaxPooling1D,Embedding\n",
    "from keras.models import Model\n",
    "from keras import Sequential \n",
    "from keras.layers import Flatten \n",
    "tokenizer = Tokenizer()\n",
    "tokenizer.fit_on_texts(x_train)\n",
    "\n",
    "v_size = V + 1\n",
    "\n",
    "model = Sequential()\n",
    "model.add(Embedding(v_size, 100, input_length=max_words))\n",
    "model.add(Conv1D(filters=32, kernel_size=8, activation='relu'))\n",
    "model.add(MaxPooling1D(pool_size=2))\n",
    "model.add(Flatten())\n",
    "model.add(Dense(10, activation='relu'))\n",
    "model.add(Dense(1, activation='sigmoid'))\n",
    "print(model.summary())\n",
    "model.summary()\n"
   ]
  },
  {
   "cell_type": "code",
   "execution_count": 44,
   "metadata": {},
   "outputs": [
    {
     "data": {
      "image/png": "[encoded data removed]",
      "text/plain": [
       "<IPython.core.display.Image object>"
      ]
     },
     "execution_count": 44,
     "metadata": {},
     "output_type": "execute_result"
    }
   ],
   "source": [
    "import pydot\n",
    "import tensorflow as tf \n",
    "tf.keras.utils.plot_model(model, to_file='model.png')"
   ]
  },
  {
   "cell_type": "code",
   "execution_count": 84,
   "metadata": {},
   "outputs": [
    {
     "name": "stdout",
     "output_type": "stream",
     "text": [
      "Epoch 1/10\n",
      "80/80 [==============================] - 57s 700ms/step - loss: 0.8163 - accuracy: 0.5141 - val_loss: 0.6849 - val_accuracy: 0.5125\n",
      "Epoch 2/10\n",
      "80/80 [==============================] - 56s 697ms/step - loss: 0.4696 - accuracy: 0.7892 - val_loss: 0.3251 - val_accuracy: 0.8607\n",
      "Epoch 3/10\n",
      "80/80 [==============================] - 66s 821ms/step - loss: 0.2041 - accuracy: 0.9228 - val_loss: 0.3173 - val_accuracy: 0.8703\n",
      "Epoch 4/10\n",
      "80/80 [==============================] - 61s 759ms/step - loss: 0.0910 - accuracy: 0.9717 - val_loss: 0.3743 - val_accuracy: 0.8643\n",
      "Epoch 5/10\n",
      "80/80 [==============================] - 71s 891ms/step - loss: 0.0330 - accuracy: 0.9920 - val_loss: 0.4602 - val_accuracy: 0.8607\n",
      "Epoch 6/10\n",
      "80/80 [==============================] - 69s 866ms/step - loss: 0.0111 - accuracy: 0.9984 - val_loss: 0.5327 - val_accuracy: 0.8566\n",
      "Epoch 7/10\n",
      "80/80 [==============================] - 46s 581ms/step - loss: 0.0042 - accuracy: 0.9995 - val_loss: 0.5843 - val_accuracy: 0.8567\n",
      "Epoch 8/10\n",
      "80/80 [==============================] - 50s 631ms/step - loss: 0.0017 - accuracy: 0.9999 - val_loss: 0.6245 - val_accuracy: 0.8569\n",
      "Epoch 9/10\n",
      "80/80 [==============================] - 49s 616ms/step - loss: 0.0010 - accuracy: 0.9999 - val_loss: 0.6525 - val_accuracy: 0.8568\n",
      "Epoch 10/10\n",
      "80/80 [==============================] - 53s 660ms/step - loss: 8.6279e-04 - accuracy: 0.9998 - val_loss: 0.6791 - val_accuracy: 0.8575\n"
     ]
    }
   ],
   "source": [
    "#train the model\n",
    "model.compile(loss='binary_crossentropy',optimizer='adam',metrics=['accuracy'])\n",
    "cnn_senti=model.fit(data_train,y_train,validation_data=(data_test,y_test),epochs=10)"
   ]
  },
  {
   "cell_type": "code",
   "execution_count": 85,
   "metadata": {},
   "outputs": [
    {
     "name": "stdout",
     "output_type": "stream",
     "text": [
      "313/313 [==============================] - 6s 19ms/step\n",
      "313/313 [==============================] - 3s 11ms/step\n",
      "score pour les données de tets :\n",
      "0.8575609204851038\n",
      "score pour les données du challenge :\n",
      "0.70341112475213\n"
     ]
    }
   ],
   "source": [
    "#prédiction \n",
    "y_pred=model.predict(data_test)\n",
    "y_pred=np.argmax(y_pred,axis=1)\n",
    "test1=1*(y_pred==y_test)\n",
    "sequence=tokenizer.texts_to_sequences(df['review'])\n",
    "data=pad_sequences(sequence)\n",
    "pred=model.predict(data)\n",
    "pred=np.argmax(pred,axis=1)\n",
    "print('score pour les données de tets :')\n",
    "print(roc_auc_score(y_test,y_pred)) \n",
    "print(\"score pour les données du challenge :\")\n",
    "print(roc_auc_score(df['category'],pred))"
   ]
  },
  {
   "cell_type": "code",
   "execution_count": 64,
   "metadata": {},
   "outputs": [
    {
     "name": "stderr",
     "output_type": "stream",
     "text": [
      "  0%|          | 0/10000 [00:00<?, ?it/s]C:\\Users\\Hadder\\AppData\\Local\\Temp\\ipykernel_33908\\2874205358.py:5: SettingWithCopyWarning:\n",
      "\n",
      "\n",
      "A value is trying to be set on a copy of a slice from a DataFrame\n",
      "\n",
      "See the caveats in the documentation: https://pandas.pydata.org/pandas-docs/stable/user_guide/indexing.html#returning-a-view-versus-a-copy\n",
      "\n",
      "100%|██████████| 10000/10000 [08:17<00:00, 20.12it/s]\n"
     ]
    },
    {
     "data": {
      "text/html": [
       "<div>\n",
       "<style scoped>\n",
       "    .dataframe tbody tr th:only-of-type {\n",
       "        vertical-align: middle;\n",
       "    }\n",
       "\n",
       "    .dataframe tbody tr th {\n",
       "        vertical-align: top;\n",
       "    }\n",
       "\n",
       "    .dataframe thead th {\n",
       "        text-align: right;\n",
       "    }\n",
       "</style>\n",
       "<table border=\"1\" class=\"dataframe\">\n",
       "  <thead>\n",
       "    <tr style=\"text-align: right;\">\n",
       "      <th></th>\n",
       "      <th>review</th>\n",
       "      <th>category</th>\n",
       "    </tr>\n",
       "  </thead>\n",
       "  <tbody>\n",
       "    <tr>\n",
       "      <th>0</th>\n",
       "      <td>like shepherd sure acting wasn good fight scen...</td>\n",
       "      <td>1</td>\n",
       "    </tr>\n",
       "    <tr>\n",
       "      <th>1</th>\n",
       "      <td>first american haven sen comments imdb series ...</td>\n",
       "      <td>1</td>\n",
       "    </tr>\n",
       "    <tr>\n",
       "      <th>2</th>\n",
       "      <td>im sucker decent superheto im not counting sup...</td>\n",
       "      <td>1</td>\n",
       "    </tr>\n",
       "    <tr>\n",
       "      <th>3</th>\n",
       "      <td>dead gentlemen ptoducttonx put together amazin...</td>\n",
       "      <td>1</td>\n",
       "    </tr>\n",
       "    <tr>\n",
       "      <th>4</th>\n",
       "      <td>decided flush show ftom memory toilet bad tv s...</td>\n",
       "      <td>0</td>\n",
       "    </tr>\n",
       "    <tr>\n",
       "      <th>...</th>\n",
       "      <td>...</td>\n",
       "      <td>...</td>\n",
       "    </tr>\n",
       "    <tr>\n",
       "      <th>9995</th>\n",
       "      <td>death collector trust wonderful labeled mean s...</td>\n",
       "      <td>1</td>\n",
       "    </tr>\n",
       "    <tr>\n",
       "      <th>9996</th>\n",
       "      <td>gave nightmares months im scarlet ever made no...</td>\n",
       "      <td>0</td>\n",
       "    </tr>\n",
       "    <tr>\n",
       "      <th>9997</th>\n",
       "      <td>rate based solely actingscriptptoductton etc w...</td>\n",
       "      <td>0</td>\n",
       "    </tr>\n",
       "    <tr>\n",
       "      <th>9998</th>\n",
       "      <td>good time say good think site gives opportunit...</td>\n",
       "      <td>0</td>\n",
       "    </tr>\n",
       "    <tr>\n",
       "      <th>9999</th>\n",
       "      <td>scope title accident yrindhouse vol collectton...</td>\n",
       "      <td>0</td>\n",
       "    </tr>\n",
       "  </tbody>\n",
       "</table>\n",
       "<p>10000 rows × 2 columns</p>\n",
       "</div>"
      ],
      "text/plain": [
       "                                                 review  category\n",
       "0     like shepherd sure acting wasn good fight scen...         1\n",
       "1     first american haven sen comments imdb series ...         1\n",
       "2     im sucker decent superheto im not counting sup...         1\n",
       "3     dead gentlemen ptoducttonx put together amazin...         1\n",
       "4     decided flush show ftom memory toilet bad tv s...         0\n",
       "...                                                 ...       ...\n",
       "9995  death collector trust wonderful labeled mean s...         1\n",
       "9996  gave nightmares months im scarlet ever made no...         0\n",
       "9997  rate based solely actingscriptptoductton etc w...         0\n",
       "9998  good time say good think site gives opportunit...         0\n",
       "9999  scope title accident yrindhouse vol collectton...         0\n",
       "\n",
       "[10000 rows x 2 columns]"
      ]
     },
     "execution_count": 64,
     "metadata": {},
     "output_type": "execute_result"
    }
   ],
   "source": [
    "#on remplace les labels de notre data par les valeurs prédites :\n",
    "from tqdm import trange \n",
    "df_submit=df.copy()\n",
    "for i in trange(len(nb_clf.predict(vec))):\n",
    "    df_submit['category'][i]=nb_clf.predict(vec)[i]\n",
    "df_submit\n",
    "\n"
   ]
  },
  {
   "cell_type": "markdown",
   "metadata": {},
   "source": [
    "### Suppression des lignes dupliquées ou des lignes qui contiennent des valeurs nulles NAN :\n",
    "On enlève maintenant les lignes qui contiennent des valeurs nulles et celles qui contiennent des valeurs doubles (heureusement y'en a pas beaucoup) :\n"
   ]
  },
  {
   "cell_type": "code",
   "execution_count": 65,
   "metadata": {},
   "outputs": [
    {
     "data": {
      "text/plain": [
       "(9986, 2)"
      ]
     },
     "execution_count": 65,
     "metadata": {},
     "output_type": "execute_result"
    }
   ],
   "source": [
    "df_submit=df_submit.dropna()\n",
    "duplicated_bool=df_submit['review'].duplicated(keep='first') # liste qui retourne les lignes dupliquées\n",
    "df_submit=df_submit.drop_duplicates(keep='first',ignore_index=True)\n",
    "duplicated_bool.sum()\n",
    "df_submit.shape"
   ]
  },
  {
   "cell_type": "markdown",
   "metadata": {},
   "source": [
    "### Data augmentation :\n",
    "\n",
    "On va utiliser deux types d'augmentation de data dans notre travail :\n",
    "1-On va utiliser une augmentation par remplacement par synonymes , c'est à dire qu'on prendra des lignes aléatoires dans notre jeu de données et on va remplacer certains mots de notre phrase par leurs synonymes , ce qui va permettre d'obtenir une autre phrase.\n",
    "2-La deuxième méthode utilisée, c'est le fait de sourcer de nouvelles données , en effet puisque notre jeu de donnée est à la base bruité et continent des erreurs de labelling , il est intéressant de prendre un échantillon à partir de données fiables , on prendra donc un échantillon des données imdb ci-dessus"
   ]
  },
  {
   "cell_type": "code",
   "execution_count": 71,
   "metadata": {},
   "outputs": [
    {
     "name": "stderr",
     "output_type": "stream",
     "text": [
      "100%|██████████| 4000/4000 [00:18<00:00, 220.93it/s]\n"
     ]
    }
   ],
   "source": [
    "import textaugment\n",
    "\n",
    "from textaugment import Wordnet\n",
    "from nltk.corpus import wordnet\n",
    "import tqdm\n",
    "from tqdm import tqdm \n",
    "\n",
    "\n",
    "#fonction qui renvoie le synonyme d'un mot spécifique\n",
    "def get_synonyms(word):\n",
    "\tsynonyms = set()\n",
    "\tfor syn in wordnet.synsets(word): \n",
    "\t\tfor l in syn.lemmas(): \n",
    "\t\t\tsynonym = l.name().replace(\"_\", \" \").replace(\"-\", \" \").lower()\n",
    "\t\t\tsynonym = \"\".join([char for char in synonym if char in ' qwertyuiopasdfghjklzxcvbnm'])\n",
    "\t\t\tsynonyms.add(synonym) \n",
    "\tif word in synonyms:\n",
    "\t\tsynonyms.remove(word)\n",
    "\treturn list(synonyms)\n",
    "stopword_list=nltk.corpus.stopwords.words('english')+['see','movie','go','seen','day','look','year','new', 'york','high','school','thing','film','sci','fi']\n",
    "\n",
    "#ffonction qui remplace une liste de mots par leurs synonymes :\n",
    "def synonym_replacement(words, n=30):\n",
    "\tnew_words = words.copy()\n",
    "\trandom_word_list = list(set([word for word in words if word not in stopword_list]))\n",
    "\trandom.shuffle(random_word_list)\n",
    "\tnum_replaced = 0\n",
    "\tfor random_word in random_word_list:\n",
    "\t\tsynonyms = get_synonyms(random_word)\n",
    "\t\tif len(synonyms) >= 1:\n",
    "\t\t\tsynonym = random.choice(list(synonyms))\n",
    "\t\t\tnew_words = [synonym if word == random_word else word for word in new_words]\n",
    "\t\t\t\n",
    "\t\t\tnum_replaced += 1\n",
    "\t\tif num_replaced >= n: \n",
    "\t\t\tbreak\n",
    "\n",
    "\n",
    "\tsentence = ' '.join(new_words)\n",
    "\tnew_words = sentence.split(' ')\n",
    "\n",
    "\treturn new_words\n",
    "\n",
    "#function to \n",
    "def random_list_synonyms_to_df(df):\n",
    "    i=randint(0,9980)\n",
    "    synonym=synonym_replacement(df['review'][i])\n",
    "    category=df['category'][i]\n",
    "    dic={'review': [synonym] , 'category' : [category]}\n",
    "    data=pd.DataFrame(dic)\n",
    "    return data\n",
    "\n",
    "#add new rows\n",
    "from tqdm import trange \n",
    "import random \n",
    "from random import randint \n",
    "# for i in trange(900):\n",
    "\n",
    "augmented_df=pd.DataFrame()\n",
    "# df_submit['review']=df_submit['review'].apply(tokenize_word)\n",
    "\n",
    "# for i in trange(10):\n",
    "n=list(np.arange(0,4000))\n",
    "for i in tqdm(n):\n",
    "\tif i==0:\n",
    "\t\trow=random_list_synonyms_to_df(df_submit)\n",
    "\t\taugmented_df=pd.concat([df_submit,row],axis=0,ignore_index=True)\n",
    "\tif i!=0:\n",
    "\t\trow=random_list_synonyms_to_df(df_submit)\n",
    "\t\taugmented_df=pd.concat([augmented_df,row],axis=0,ignore_index=True)\n",
    "\n",
    "def join_text1(text):\n",
    "\treturn ' '.join(text)\n",
    "\n",
    "augmented_df['review']=augmented_df['review'].apply(join_text1)\n",
    "\n",
    "\n",
    "\n",
    "\n",
    "\n",
    "    \n",
    "\n",
    "\n"
   ]
  },
  {
   "cell_type": "code",
   "execution_count": 72,
   "metadata": {},
   "outputs": [
    {
     "data": {
      "text/plain": [
       "(13986, 2)"
      ]
     },
     "execution_count": 72,
     "metadata": {},
     "output_type": "execute_result"
    }
   ],
   "source": [
    "augmented_df.shape"
   ]
  },
  {
   "cell_type": "code",
   "execution_count": 73,
   "metadata": {},
   "outputs": [],
   "source": [
    "augmented_df=pd.concat([augmented_df,df_imdb[:6000]])"
   ]
  },
  {
   "cell_type": "markdown",
   "metadata": {},
   "source": [
    "### Implémentation de l'algorithme d'entraînement et d'affichage de score fourni par Kili Technology :"
   ]
  },
  {
   "cell_type": "code",
   "execution_count": 74,
   "metadata": {},
   "outputs": [],
   "source": [
    "import csv\n",
    "\n",
    "import fasttext\n",
    "\n",
    "\n",
    "def process_csv(df, output_name, output_folder):\n",
    "    df.loc[:, 'text'] = '__label__' + df['category'].astype(str) + ' ' + df['review']\n",
    "    output_file = f'{output_folder}/{output_name}.txt'\n",
    "    df[['text']].to_csv(output_file, index=False, header=False, \n",
    "                quoting=csv.QUOTE_NONE,  quotechar=\"\",  escapechar=\"\\\\\")\n",
    "    return output_file\n",
    "\n",
    "\n",
    "def train_model(df, df_test, output_folder):\n",
    "    output_file = process_csv(df, 'train', output_folder)\n",
    "    output_file_test = process_csv(df_test, 'test', output_folder)\n",
    "    model = fasttext.train_supervised(\n",
    "        input=output_file, lr=0.1, epoch=20, wordNgrams=2)\n",
    "    results = model.test(output_file_test)\n",
    "    accuracy = results[1]\n",
    "\n",
    "    return accuracy\n",
    "\n",
    "def process_csv2(df,output_name,output_folder):\n",
    "    df.loc[:, 'text'] = df['review']+ df['category'].astype(str)\n",
    "    output_file = f'{output_folder}/{output_name}.csv'\n",
    "    df[['text']].to_csv(output_file, index=False, header=False, \n",
    "                quoting=csv.QUOTE_NONE,  quotechar=\"\",  escapechar=\"\\\\\")\n",
    "    return output_file\n",
    "\n",
    "  "
   ]
  },
  {
   "cell_type": "code",
   "execution_count": 75,
   "metadata": {},
   "outputs": [
    {
     "data": {
      "text/plain": [
       "0.88886"
      ]
     },
     "execution_count": 75,
     "metadata": {},
     "output_type": "execute_result"
    }
   ],
   "source": [
    "df_test=augmented_df.copy()\n",
    "df_test2=df_imdb.copy()\n",
    "#on entraîne le modèle sur la data nettoyée pour tester sur la data imdb :\n",
    "\n",
    "train_model(df_test,df_test2,\"C:/Users/Hadder/Desktop\")\n"
   ]
  },
  {
   "cell_type": "code",
   "execution_count": 79,
   "metadata": {},
   "outputs": [],
   "source": [
    "import os\n",
    "\n",
    "augmented_df.to_csv(os.path.join(\"C:/Users/Hadder/Desktop\",\"data_submit.csv\"))\n",
    "\n",
    "\n"
   ]
  }
 ],
 "metadata": {
  "kernelspec": {
   "display_name": "Python 3 (ipykernel)",
   "language": "python",
   "name": "python3"
  },
  "language_info": {
   "codemirror_mode": {
    "name": "ipython",
    "version": 3
   },
   "file_extension": ".py",
   "mimetype": "text/x-python",
   "name": "python",
   "nbconvert_exporter": "python",
   "pygments_lexer": "ipython3",
   "version": "3.9.7"
  },
  "vscode": {
   "interpreter": {
    "hash": "ad2bdc8ecc057115af97d19610ffacc2b4e99fae6737bb82f5d7fb13d2f2c186"
   }
  }
 },
 "nbformat": 4,
 "nbformat_minor": 2
}
